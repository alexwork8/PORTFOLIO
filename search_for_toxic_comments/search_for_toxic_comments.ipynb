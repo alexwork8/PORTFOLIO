{
 "cells": [
  {
   "cell_type": "markdown",
   "metadata": {},
   "source": [
    "## Подготовка"
   ]
  },
  {
   "cell_type": "markdown",
   "metadata": {},
   "source": [
    "Загрузим все необходимые библиотеки"
   ]
  },
  {
   "cell_type": "code",
   "execution_count": 1,
   "metadata": {},
   "outputs": [],
   "source": [
    "import re\n",
    "import nltk\n",
    "import spacy\n",
    "from sklearn.metrics import f1_score\n",
    "from sklearn.linear_model import LogisticRegression\n",
    "from sklearn.feature_extraction.text import TfidfVectorizer\n",
    "from sklearn.model_selection import train_test_split\n",
    "from sklearn.ensemble import RandomForestClassifier\n",
    "from sklearn.tree import DecisionTreeClassifier\n",
    "from nltk.corpus import stopwords\n",
    "import pandas as pd\n",
    "import numpy as np"
   ]
  },
  {
   "cell_type": "code",
   "execution_count": 2,
   "metadata": {},
   "outputs": [],
   "source": [
    "import warnings\n",
    "warnings.filterwarnings('ignore')"
   ]
  },
  {
   "cell_type": "markdown",
   "metadata": {},
   "source": [
    "Загрузим датасет"
   ]
  },
  {
   "cell_type": "code",
   "execution_count": 3,
   "metadata": {
    "scrolled": true
   },
   "outputs": [
    {
     "data": {
      "text/html": [
       "<div>\n",
       "<style scoped>\n",
       "    .dataframe tbody tr th:only-of-type {\n",
       "        vertical-align: middle;\n",
       "    }\n",
       "\n",
       "    .dataframe tbody tr th {\n",
       "        vertical-align: top;\n",
       "    }\n",
       "\n",
       "    .dataframe thead th {\n",
       "        text-align: right;\n",
       "    }\n",
       "</style>\n",
       "<table border=\"1\" class=\"dataframe\">\n",
       "  <thead>\n",
       "    <tr style=\"text-align: right;\">\n",
       "      <th></th>\n",
       "      <th>text</th>\n",
       "      <th>toxic</th>\n",
       "    </tr>\n",
       "  </thead>\n",
       "  <tbody>\n",
       "    <tr>\n",
       "      <td>0</td>\n",
       "      <td>Explanation\\nWhy the edits made under my usern...</td>\n",
       "      <td>0</td>\n",
       "    </tr>\n",
       "    <tr>\n",
       "      <td>1</td>\n",
       "      <td>D'aww! He matches this background colour I'm s...</td>\n",
       "      <td>0</td>\n",
       "    </tr>\n",
       "    <tr>\n",
       "      <td>2</td>\n",
       "      <td>Hey man, I'm really not trying to edit war. It...</td>\n",
       "      <td>0</td>\n",
       "    </tr>\n",
       "    <tr>\n",
       "      <td>3</td>\n",
       "      <td>\"\\nMore\\nI can't make any real suggestions on ...</td>\n",
       "      <td>0</td>\n",
       "    </tr>\n",
       "    <tr>\n",
       "      <td>4</td>\n",
       "      <td>You, sir, are my hero. Any chance you remember...</td>\n",
       "      <td>0</td>\n",
       "    </tr>\n",
       "    <tr>\n",
       "      <td>...</td>\n",
       "      <td>...</td>\n",
       "      <td>...</td>\n",
       "    </tr>\n",
       "    <tr>\n",
       "      <td>159566</td>\n",
       "      <td>\":::::And for the second time of asking, when ...</td>\n",
       "      <td>0</td>\n",
       "    </tr>\n",
       "    <tr>\n",
       "      <td>159567</td>\n",
       "      <td>You should be ashamed of yourself \\n\\nThat is ...</td>\n",
       "      <td>0</td>\n",
       "    </tr>\n",
       "    <tr>\n",
       "      <td>159568</td>\n",
       "      <td>Spitzer \\n\\nUmm, theres no actual article for ...</td>\n",
       "      <td>0</td>\n",
       "    </tr>\n",
       "    <tr>\n",
       "      <td>159569</td>\n",
       "      <td>And it looks like it was actually you who put ...</td>\n",
       "      <td>0</td>\n",
       "    </tr>\n",
       "    <tr>\n",
       "      <td>159570</td>\n",
       "      <td>\"\\nAnd ... I really don't think you understand...</td>\n",
       "      <td>0</td>\n",
       "    </tr>\n",
       "  </tbody>\n",
       "</table>\n",
       "<p>159571 rows × 2 columns</p>\n",
       "</div>"
      ],
      "text/plain": [
       "                                                     text  toxic\n",
       "0       Explanation\\nWhy the edits made under my usern...      0\n",
       "1       D'aww! He matches this background colour I'm s...      0\n",
       "2       Hey man, I'm really not trying to edit war. It...      0\n",
       "3       \"\\nMore\\nI can't make any real suggestions on ...      0\n",
       "4       You, sir, are my hero. Any chance you remember...      0\n",
       "...                                                   ...    ...\n",
       "159566  \":::::And for the second time of asking, when ...      0\n",
       "159567  You should be ashamed of yourself \\n\\nThat is ...      0\n",
       "159568  Spitzer \\n\\nUmm, theres no actual article for ...      0\n",
       "159569  And it looks like it was actually you who put ...      0\n",
       "159570  \"\\nAnd ... I really don't think you understand...      0\n",
       "\n",
       "[159571 rows x 2 columns]"
      ]
     },
     "execution_count": 3,
     "metadata": {},
     "output_type": "execute_result"
    }
   ],
   "source": [
    "df = pd.read_csv('/datasets/toxic_comments.csv')\n",
    "df"
   ]
  },
  {
   "cell_type": "code",
   "execution_count": 4,
   "metadata": {},
   "outputs": [
    {
     "name": "stdout",
     "output_type": "stream",
     "text": [
      "<class 'pandas.core.frame.DataFrame'>\n",
      "RangeIndex: 159571 entries, 0 to 159570\n",
      "Data columns (total 2 columns):\n",
      "text     159571 non-null object\n",
      "toxic    159571 non-null int64\n",
      "dtypes: int64(1), object(1)\n",
      "memory usage: 2.4+ MB\n"
     ]
    }
   ],
   "source": [
    "df.info()"
   ]
  },
  {
   "cell_type": "markdown",
   "metadata": {},
   "source": [
    "Выполним очистку текста и лемматизацию\n"
   ]
  },
  {
   "cell_type": "code",
   "execution_count": 5,
   "metadata": {},
   "outputs": [],
   "source": [
    "corpus = df['text'].values.astype('U')"
   ]
  },
  {
   "cell_type": "code",
   "execution_count": 6,
   "metadata": {},
   "outputs": [],
   "source": [
    "def clear_text(text):\n",
    "    txt = re.sub(r'[^a-zA-Z ]', ' ', text) # оставляем только буквы английского алфавита\n",
    "    txt = txt.split()                      # избавляемся от лишних пробелов разбиением текста\n",
    "    txt = ' '.join(txt)                    # объединяем текст в предложения\n",
    "    return txt\n",
    "clear_corpus = []\n",
    "for i in corpus:                     # проделываем это со всем корпусом\n",
    "    cl = clear_text(i)\n",
    "    clear_corpus.append(cl)\n"
   ]
  },
  {
   "cell_type": "code",
   "execution_count": 7,
   "metadata": {},
   "outputs": [],
   "source": [
    "nlp = spacy.load('en_core_web_sm')\n",
    "def lemma_it(row):\n",
    "    sentence = row[0]\n",
    "    doc = nlp(sentence)\n",
    "    lemma_sent = \" \".join([token.lemma_ for token in doc])\n",
    "    return lemma_sent\n",
    "    "
   ]
  },
  {
   "cell_type": "markdown",
   "metadata": {},
   "source": [
    "Т.к. обработка нашего корпуса занимает около 50 минут, я выгружу лемматизированный корпус, а работу вышенаписанной функции закомментирую"
   ]
  },
  {
   "attachments": {
    "image.png": {
     "image/png": "[encoded data removed]"
    }
   },
   "cell_type": "markdown",
   "metadata": {},
   "source": [
    "![image.png](attachment:image.png)"
   ]
  },
  {
   "cell_type": "raw",
   "metadata": {},
   "source": [
    "%%time\n",
    "lemma_corpus = pd.DataFrame(clear_corpus).apply(lemma_it, axis=1)\n",
    "lemma_corpus.to_csv('lemma_corpus.csv')"
   ]
  },
  {
   "cell_type": "code",
   "execution_count": 8,
   "metadata": {},
   "outputs": [
    {
     "data": {
      "text/html": [
       "<div>\n",
       "<style scoped>\n",
       "    .dataframe tbody tr th:only-of-type {\n",
       "        vertical-align: middle;\n",
       "    }\n",
       "\n",
       "    .dataframe tbody tr th {\n",
       "        vertical-align: top;\n",
       "    }\n",
       "\n",
       "    .dataframe thead th {\n",
       "        text-align: right;\n",
       "    }\n",
       "</style>\n",
       "<table border=\"1\" class=\"dataframe\">\n",
       "  <thead>\n",
       "    <tr style=\"text-align: right;\">\n",
       "      <th></th>\n",
       "      <th>text</th>\n",
       "    </tr>\n",
       "  </thead>\n",
       "  <tbody>\n",
       "    <tr>\n",
       "      <td>0</td>\n",
       "      <td>Explanation why the edit make under my usernam...</td>\n",
       "    </tr>\n",
       "    <tr>\n",
       "      <td>1</td>\n",
       "      <td>d aww he match this background colour I m seem...</td>\n",
       "    </tr>\n",
       "    <tr>\n",
       "      <td>2</td>\n",
       "      <td>hey man I m really not try to edit war it s ju...</td>\n",
       "    </tr>\n",
       "    <tr>\n",
       "      <td>3</td>\n",
       "      <td>More I can t make any real suggestion on impro...</td>\n",
       "    </tr>\n",
       "    <tr>\n",
       "      <td>4</td>\n",
       "      <td>you sir be my hero any chance you remember wha...</td>\n",
       "    </tr>\n",
       "    <tr>\n",
       "      <td>...</td>\n",
       "      <td>...</td>\n",
       "    </tr>\n",
       "    <tr>\n",
       "      <td>159566</td>\n",
       "      <td>and for the second time of ask when your view ...</td>\n",
       "    </tr>\n",
       "    <tr>\n",
       "      <td>159567</td>\n",
       "      <td>you should be ashamed of yourself that be a ho...</td>\n",
       "    </tr>\n",
       "    <tr>\n",
       "      <td>159568</td>\n",
       "      <td>Spitzer Umm there s no actual article for pros...</td>\n",
       "    </tr>\n",
       "    <tr>\n",
       "      <td>159569</td>\n",
       "      <td>and it look like it be actually you who put on...</td>\n",
       "    </tr>\n",
       "    <tr>\n",
       "      <td>159570</td>\n",
       "      <td>and I really don t think you understand I come...</td>\n",
       "    </tr>\n",
       "  </tbody>\n",
       "</table>\n",
       "<p>159571 rows × 1 columns</p>\n",
       "</div>"
      ],
      "text/plain": [
       "                                                     text\n",
       "0       Explanation why the edit make under my usernam...\n",
       "1       d aww he match this background colour I m seem...\n",
       "2       hey man I m really not try to edit war it s ju...\n",
       "3       More I can t make any real suggestion on impro...\n",
       "4       you sir be my hero any chance you remember wha...\n",
       "...                                                   ...\n",
       "159566  and for the second time of ask when your view ...\n",
       "159567  you should be ashamed of yourself that be a ho...\n",
       "159568  Spitzer Umm there s no actual article for pros...\n",
       "159569  and it look like it be actually you who put on...\n",
       "159570  and I really don t think you understand I come...\n",
       "\n",
       "[159571 rows x 1 columns]"
      ]
     },
     "execution_count": 8,
     "metadata": {},
     "output_type": "execute_result"
    }
   ],
   "source": [
    "lemma_corpus = pd.read_csv('lemma_corpus.csv')\n",
    "null_str = lemma_corpus.columns.values    #т.к. первая строка ушла в название столбцов пересохраним ее в первое значение\n",
    "lemma_corpus = np.vstack([null_str, lemma_corpus.values]) #и объединим с остальными\n",
    "lemma_corpus = pd.DataFrame(lemma_corpus, columns=['index', 'text']).drop('index', axis=1)\n",
    "lemma_corpus"
   ]
  },
  {
   "cell_type": "markdown",
   "metadata": {},
   "source": [
    "Для дальнейшего разбиения датасета, на обучающий и тестовый, соеденим лемматизированные и очищенные тексты со значением \"токсичности\""
   ]
  },
  {
   "cell_type": "code",
   "execution_count": 9,
   "metadata": {},
   "outputs": [],
   "source": [
    "lemma_corpus['toxic'] = df['toxic']\n"
   ]
  },
  {
   "cell_type": "markdown",
   "metadata": {},
   "source": [
    "Разобъем выборку:"
   ]
  },
  {
   "cell_type": "code",
   "execution_count": 10,
   "metadata": {},
   "outputs": [],
   "source": [
    "df_train, df_test = train_test_split(lemma_corpus, test_size = 0.5, random_state=123)\n"
   ]
  },
  {
   "cell_type": "markdown",
   "metadata": {},
   "source": [
    "Соотношение позитивных комментириев и негативных"
   ]
  },
  {
   "cell_type": "code",
   "execution_count": 11,
   "metadata": {},
   "outputs": [
    {
     "data": {
      "text/plain": [
       "'Соотношение во всей выборке:'"
      ]
     },
     "metadata": {},
     "output_type": "display_data"
    },
    {
     "data": {
      "text/plain": [
       "0.1131876717871444"
      ]
     },
     "metadata": {},
     "output_type": "display_data"
    },
    {
     "data": {
      "text/plain": [
       "'Соотношение в обучающей выборке:'"
      ]
     },
     "metadata": {},
     "output_type": "display_data"
    },
    {
     "data": {
      "text/plain": [
       "0.11453356801609253"
      ]
     },
     "metadata": {},
     "output_type": "display_data"
    },
    {
     "data": {
      "text/plain": [
       "'Соотношение в тестовой выборке:'"
      ]
     },
     "metadata": {},
     "output_type": "display_data"
    },
    {
     "data": {
      "text/plain": [
       "0.11184503901895207"
      ]
     },
     "metadata": {},
     "output_type": "display_data"
    }
   ],
   "source": [
    "all_d = df['toxic'].value_counts()[1]/df['toxic'].value_counts()[0]\n",
    "train_d = df_train['toxic'].value_counts()[1]/df_train['toxic'].value_counts()[0]\n",
    "test_d = df_test['toxic'].value_counts()[1]/df_test['toxic'].value_counts()[0]\n",
    "display('Соотношение во всей выборке:', all_d)\n",
    "display('Соотношение в обучающей выборке:', train_d)\n",
    "display('Соотношение в тестовой выборке:', test_d)"
   ]
  },
  {
   "cell_type": "markdown",
   "metadata": {},
   "source": [
    "Соотношение негативных и позитивных сообщений сохранилось"
   ]
  },
  {
   "cell_type": "markdown",
   "metadata": {},
   "source": [
    "Чтобы почистить мешок слов, найдём стоп-слова с помощью модуля nltk"
   ]
  },
  {
   "cell_type": "code",
   "execution_count": 12,
   "metadata": {},
   "outputs": [
    {
     "name": "stderr",
     "output_type": "stream",
     "text": [
      "[nltk_data] Downloading package stopwords to /home/jovyan/nltk_data...\n",
      "[nltk_data]   Package stopwords is already up-to-date!\n"
     ]
    }
   ],
   "source": [
    "nltk.download('stopwords')\n",
    "stop_words = set(stopwords.words('english'))"
   ]
  },
  {
   "cell_type": "markdown",
   "metadata": {},
   "source": [
    "Создадим признаки с помощью TF-IDF отдельно для обучающей и тестовой выборки (чтобы не учесть в модели частоты слов из тестовой выборки)"
   ]
  },
  {
   "cell_type": "code",
   "execution_count": 13,
   "metadata": {},
   "outputs": [],
   "source": [
    "def tf_idf(corpus_train, corpus_test):\n",
    "    tf_idf = TfidfVectorizer(stop_words=stop_words)                                     # векторизируем отбрасывая стоп-слова\n",
    "    count_tf_idf_train = tf_idf.fit_transform(corpus_train.apply(lambda x: np.str_(x))) # трансформируем обучающую выборку\n",
    "    \n",
    "    count_tf_idf_test = tf_idf.transform(corpus_test.apply(lambda x: np.str_(x)))       # и тестовую выборку\n",
    "    return count_tf_idf_train, count_tf_idf_test\n",
    "tf_idf_train, tf_idf_test = tf_idf(df_train['text'], df_test['text'])"
   ]
  },
  {
   "cell_type": "markdown",
   "metadata": {},
   "source": [
    "Выделим признаки и целевой признак:"
   ]
  },
  {
   "cell_type": "code",
   "execution_count": 14,
   "metadata": {},
   "outputs": [],
   "source": [
    "features_train = tf_idf_train\n",
    "features_test = tf_idf_test\n",
    "target_train = df_train['toxic']\n",
    "target_test = df_test['toxic']"
   ]
  },
  {
   "cell_type": "markdown",
   "metadata": {},
   "source": [
    "Проверим размеры выборок"
   ]
  },
  {
   "cell_type": "code",
   "execution_count": 15,
   "metadata": {},
   "outputs": [
    {
     "data": {
      "text/plain": [
       "(79785, 103827)"
      ]
     },
     "metadata": {},
     "output_type": "display_data"
    },
    {
     "data": {
      "text/plain": [
       "(79786, 103827)"
      ]
     },
     "metadata": {},
     "output_type": "display_data"
    },
    {
     "data": {
      "text/plain": [
       "(79785,)"
      ]
     },
     "metadata": {},
     "output_type": "display_data"
    },
    {
     "data": {
      "text/plain": [
       "(79786,)"
      ]
     },
     "metadata": {},
     "output_type": "display_data"
    }
   ],
   "source": [
    "display(features_train.shape)\n",
    "display(features_test.shape)\n",
    "display(target_train.shape)\n",
    "display(target_test.shape)"
   ]
  },
  {
   "cell_type": "markdown",
   "metadata": {},
   "source": [
    "## Обучение"
   ]
  },
  {
   "cell_type": "markdown",
   "metadata": {},
   "source": [
    "Обучим разные модели и вычислим F1 метрику"
   ]
  },
  {
   "cell_type": "markdown",
   "metadata": {},
   "source": [
    "Создадим функцию для обучения модели и вычисления метрики. Она будет принемать классификатор и возвращать велечину F1"
   ]
  },
  {
   "cell_type": "code",
   "execution_count": 16,
   "metadata": {
    "scrolled": false
   },
   "outputs": [],
   "source": [
    "def predict(cls):                                 \n",
    "    model = cls.fit(features_train, target_train)\n",
    "    predictions = model.predict(features_test)\n",
    "    score = f1_score(target_test, predictions)\n",
    "    return score\n"
   ]
  },
  {
   "cell_type": "markdown",
   "metadata": {},
   "source": [
    "Попробуем логистическую регрессию:"
   ]
  },
  {
   "cell_type": "code",
   "execution_count": 17,
   "metadata": {},
   "outputs": [
    {
     "data": {
      "text/plain": [
       "0.7253317065731278"
      ]
     },
     "execution_count": 17,
     "metadata": {},
     "output_type": "execute_result"
    }
   ],
   "source": [
    "lr = predict(LogisticRegression())\n",
    "lr"
   ]
  },
  {
   "cell_type": "markdown",
   "metadata": {},
   "source": [
    "Неплохо, но недостаточно. Теперь дерево решений:"
   ]
  },
  {
   "cell_type": "code",
   "execution_count": 18,
   "metadata": {},
   "outputs": [
    {
     "name": "stdout",
     "output_type": "stream",
     "text": [
      "CPU times: user 3min 48s, sys: 0 ns, total: 3min 48s\n",
      "Wall time: 3min 52s\n"
     ]
    },
    {
     "data": {
      "text/plain": [
       "0.7121051647872406"
      ]
     },
     "execution_count": 18,
     "metadata": {},
     "output_type": "execute_result"
    }
   ],
   "source": [
    "%%time\n",
    "dtc = predict(DecisionTreeClassifier())\n",
    "dtc"
   ]
  },
  {
   "cell_type": "markdown",
   "metadata": {},
   "source": [
    "Результат хуже и очень медленно. Случайный лес:"
   ]
  },
  {
   "cell_type": "code",
   "execution_count": 19,
   "metadata": {
    "scrolled": false
   },
   "outputs": [
    {
     "data": {
      "text/plain": [
       "0.6542816137777069"
      ]
     },
     "execution_count": 19,
     "metadata": {},
     "output_type": "execute_result"
    }
   ],
   "source": [
    "rf = predict(RandomForestClassifier())\n",
    "rf"
   ]
  },
  {
   "cell_type": "markdown",
   "metadata": {},
   "source": [
    "Еще хуже.\n",
    "\n",
    "Попробуем улучшить логистическую регрессию:"
   ]
  },
  {
   "cell_type": "code",
   "execution_count": 20,
   "metadata": {},
   "outputs": [
    {
     "data": {
      "text/plain": [
       "0.7719966159052452"
      ]
     },
     "execution_count": 20,
     "metadata": {},
     "output_type": "execute_result"
    }
   ],
   "source": [
    "lr_l1 = predict(LogisticRegression(penalty='l1'))\n",
    "lr_l1"
   ]
  },
  {
   "cell_type": "markdown",
   "metadata": {},
   "source": [
    "Приемлемый результат"
   ]
  },
  {
   "cell_type": "markdown",
   "metadata": {},
   "source": [
    "## Выводы"
   ]
  },
  {
   "cell_type": "markdown",
   "metadata": {},
   "source": [
    "Когда данных много, то промодерировать большой объем текстовой информации может быть очень времязатратно или вовсе невозможно. В таких случаях приходят подобные методы, которые проанализируют текст значительно быстрее армии модераторов. В данном случае использование логистической регрессии с небольшими настройками гиперпараметров дают правильный результат (почти) в 4 случаях из 5 комментариев пользователей"
   ]
  },
  {
   "cell_type": "code",
   "execution_count": 21,
   "metadata": {},
   "outputs": [
    {
     "data": {
      "text/html": [
       "<div>\n",
       "<style scoped>\n",
       "    .dataframe tbody tr th:only-of-type {\n",
       "        vertical-align: middle;\n",
       "    }\n",
       "\n",
       "    .dataframe tbody tr th {\n",
       "        vertical-align: top;\n",
       "    }\n",
       "\n",
       "    .dataframe thead th {\n",
       "        text-align: right;\n",
       "    }\n",
       "</style>\n",
       "<table border=\"1\" class=\"dataframe\">\n",
       "  <thead>\n",
       "    <tr style=\"text-align: right;\">\n",
       "      <th></th>\n",
       "      <th>Модель</th>\n",
       "      <th>F1</th>\n",
       "    </tr>\n",
       "  </thead>\n",
       "  <tbody>\n",
       "    <tr>\n",
       "      <td>0</td>\n",
       "      <td>Дерево решений</td>\n",
       "      <td>0.712105</td>\n",
       "    </tr>\n",
       "    <tr>\n",
       "      <td>1</td>\n",
       "      <td>Случайный лес</td>\n",
       "      <td>0.654282</td>\n",
       "    </tr>\n",
       "    <tr>\n",
       "      <td>2</td>\n",
       "      <td>Логистическая регрессия</td>\n",
       "      <td>0.725332</td>\n",
       "    </tr>\n",
       "    <tr>\n",
       "      <td>3</td>\n",
       "      <td>Логистическая регрессия l1</td>\n",
       "      <td>0.771997</td>\n",
       "    </tr>\n",
       "  </tbody>\n",
       "</table>\n",
       "</div>"
      ],
      "text/plain": [
       "                       Модель        F1\n",
       "0              Дерево решений  0.712105\n",
       "1               Случайный лес  0.654282\n",
       "2     Логистическая регрессия  0.725332\n",
       "3  Логистическая регрессия l1  0.771997"
      ]
     },
     "execution_count": 21,
     "metadata": {},
     "output_type": "execute_result"
    }
   ],
   "source": [
    "res = pd.DataFrame([\n",
    "                    ['Дерево решений', dtc],\n",
    "                    ['Случайный лес', rf],\n",
    "                    ['Логистическая регрессия', lr],\n",
    "                    ['Логистическая регрессия l1', lr_l1]\n",
    "                   ], columns = ['Модель','F1'])\n",
    "\n",
    "res"
   ]
  }
 ],
 "metadata": {
  "ExecuteTimeLog": [
   {
    "duration": 5906,
    "start_time": "2021-07-19T19:47:13.458Z"
   },
   {
    "duration": 3,
    "start_time": "2021-07-19T19:47:19.365Z"
   },
   {
    "duration": 5017,
    "start_time": "2021-07-19T19:47:19.369Z"
   },
   {
    "duration": 95326,
    "start_time": "2021-07-19T19:47:24.388Z"
   },
   {
    "duration": 1945,
    "start_time": "2021-07-19T19:48:59.716Z"
   },
   {
    "duration": 40,
    "start_time": "2021-07-19T19:49:01.663Z"
   },
   {
    "duration": 61,
    "start_time": "2021-07-19T19:49:01.704Z"
   },
   {
    "duration": 18,
    "start_time": "2021-07-19T19:49:01.767Z"
   },
   {
    "duration": 270,
    "start_time": "2021-07-19T19:49:01.786Z"
   },
   {
    "duration": 8484,
    "start_time": "2021-07-19T19:49:02.057Z"
   },
   {
    "duration": 3,
    "start_time": "2021-07-19T19:49:10.542Z"
   },
   {
    "duration": 9,
    "start_time": "2021-07-19T19:49:10.546Z"
   },
   {
    "duration": 3,
    "start_time": "2021-07-19T19:49:10.557Z"
   },
   {
    "duration": 8139,
    "start_time": "2021-07-19T19:49:10.562Z"
   },
   {
    "duration": 187764,
    "start_time": "2021-07-19T19:49:18.703Z"
   },
   {
    "duration": 24591,
    "start_time": "2021-07-19T19:52:26.469Z"
   },
   {
    "duration": 780,
    "start_time": "2021-07-19T19:52:51.061Z"
   },
   {
    "duration": 7,
    "start_time": "2021-07-19T19:52:51.843Z"
   },
   {
    "duration": 10,
    "start_time": "2021-07-19T19:52:51.852Z"
   },
   {
    "duration": 1146,
    "start_time": "2021-07-19T19:56:53.831Z"
   },
   {
    "duration": 4208,
    "start_time": "2021-07-19T19:57:05.748Z"
   },
   {
    "duration": 2,
    "start_time": "2021-07-19T19:57:09.958Z"
   },
   {
    "duration": 5284,
    "start_time": "2021-07-19T19:57:09.962Z"
   },
   {
    "duration": 95502,
    "start_time": "2021-07-19T19:57:15.248Z"
   },
   {
    "duration": 4,
    "start_time": "2021-07-19T19:58:50.752Z"
   },
   {
    "duration": 10708,
    "start_time": "2021-07-19T20:02:24.772Z"
   },
   {
    "duration": 5661,
    "start_time": "2021-07-19T20:11:12.177Z"
   },
   {
    "duration": 392,
    "start_time": "2021-07-19T20:13:27.202Z"
   },
   {
    "duration": 2,
    "start_time": "2021-07-19T20:14:15.492Z"
   },
   {
    "duration": 389,
    "start_time": "2021-07-19T20:14:33.746Z"
   },
   {
    "duration": 85,
    "start_time": "2021-07-19T20:15:17.615Z"
   },
   {
    "duration": 7416,
    "start_time": "2021-07-19T20:15:22.605Z"
   },
   {
    "duration": 7923,
    "start_time": "2021-07-19T20:16:15.736Z"
   },
   {
    "duration": 438,
    "start_time": "2021-07-19T20:16:23.661Z"
   },
   {
    "duration": 410,
    "start_time": "2021-07-19T20:16:51.649Z"
   },
   {
    "duration": 19761,
    "start_time": "2021-07-19T20:19:50.826Z"
   },
   {
    "duration": 568,
    "start_time": "2021-07-19T20:20:10.589Z"
   },
   {
    "duration": 289,
    "start_time": "2021-07-19T20:20:24.530Z"
   },
   {
    "duration": 4649,
    "start_time": "2021-07-19T20:20:45.170Z"
   },
   {
    "duration": 3,
    "start_time": "2021-07-19T20:20:49.821Z"
   },
   {
    "duration": 1786,
    "start_time": "2021-07-19T20:20:49.825Z"
   },
   {
    "duration": 15468,
    "start_time": "2021-07-19T20:20:51.613Z"
   },
   {
    "duration": 95691,
    "start_time": "2021-07-19T20:21:07.083Z"
   },
   {
    "duration": 4,
    "start_time": "2021-07-19T20:22:42.776Z"
   },
   {
    "duration": 590,
    "start_time": "2021-07-19T20:22:42.782Z"
   },
   {
    "duration": 242,
    "start_time": "2021-07-19T20:22:43.132Z"
   },
   {
    "duration": 241,
    "start_time": "2021-07-19T20:22:43.134Z"
   },
   {
    "duration": 240,
    "start_time": "2021-07-19T20:22:43.136Z"
   },
   {
    "duration": 237,
    "start_time": "2021-07-19T20:22:43.139Z"
   },
   {
    "duration": 229,
    "start_time": "2021-07-19T20:22:43.148Z"
   },
   {
    "duration": 227,
    "start_time": "2021-07-19T20:22:43.151Z"
   },
   {
    "duration": 226,
    "start_time": "2021-07-19T20:22:43.153Z"
   },
   {
    "duration": 223,
    "start_time": "2021-07-19T20:22:43.157Z"
   },
   {
    "duration": 217,
    "start_time": "2021-07-19T20:22:43.164Z"
   },
   {
    "duration": 214,
    "start_time": "2021-07-19T20:22:43.167Z"
   },
   {
    "duration": 212,
    "start_time": "2021-07-19T20:22:43.170Z"
   },
   {
    "duration": 210,
    "start_time": "2021-07-19T20:22:43.173Z"
   },
   {
    "duration": 204,
    "start_time": "2021-07-19T20:22:43.180Z"
   },
   {
    "duration": 202,
    "start_time": "2021-07-19T20:22:43.183Z"
   },
   {
    "duration": 201,
    "start_time": "2021-07-19T20:22:43.185Z"
   },
   {
    "duration": 1543,
    "start_time": "2021-07-19T20:27:44.455Z"
   },
   {
    "duration": 304,
    "start_time": "2021-07-19T20:27:48.263Z"
   },
   {
    "duration": 26,
    "start_time": "2021-07-19T20:28:27.960Z"
   },
   {
    "duration": 15,
    "start_time": "2021-07-19T20:28:37.210Z"
   },
   {
    "duration": 24069,
    "start_time": "2021-07-19T20:30:12.227Z"
   },
   {
    "duration": 307,
    "start_time": "2021-07-19T20:46:27.899Z"
   },
   {
    "duration": 4172,
    "start_time": "2021-07-19T20:46:38.337Z"
   },
   {
    "duration": 3,
    "start_time": "2021-07-19T20:46:42.511Z"
   },
   {
    "duration": 4959,
    "start_time": "2021-07-19T20:46:42.515Z"
   },
   {
    "duration": 17929,
    "start_time": "2021-07-19T20:46:47.475Z"
   },
   {
    "duration": 94715,
    "start_time": "2021-07-19T20:47:05.405Z"
   },
   {
    "duration": 5,
    "start_time": "2021-07-19T20:48:40.122Z"
   },
   {
    "duration": 1885,
    "start_time": "2021-07-19T20:48:40.141Z"
   },
   {
    "duration": 35,
    "start_time": "2021-07-19T20:48:42.029Z"
   },
   {
    "duration": 872,
    "start_time": "2021-07-19T20:48:42.066Z"
   },
   {
    "duration": 269,
    "start_time": "2021-07-19T20:48:42.672Z"
   },
   {
    "duration": 264,
    "start_time": "2021-07-19T20:48:42.678Z"
   },
   {
    "duration": 243,
    "start_time": "2021-07-19T20:48:42.702Z"
   },
   {
    "duration": 241,
    "start_time": "2021-07-19T20:48:42.705Z"
   },
   {
    "duration": 239,
    "start_time": "2021-07-19T20:48:42.709Z"
   },
   {
    "duration": 237,
    "start_time": "2021-07-19T20:48:42.712Z"
   },
   {
    "duration": 236,
    "start_time": "2021-07-19T20:48:42.715Z"
   },
   {
    "duration": 234,
    "start_time": "2021-07-19T20:48:42.718Z"
   },
   {
    "duration": 233,
    "start_time": "2021-07-19T20:48:42.720Z"
   },
   {
    "duration": 232,
    "start_time": "2021-07-19T20:48:42.723Z"
   },
   {
    "duration": 223,
    "start_time": "2021-07-19T20:48:42.733Z"
   },
   {
    "duration": 222,
    "start_time": "2021-07-19T20:48:42.735Z"
   },
   {
    "duration": 222,
    "start_time": "2021-07-19T20:48:42.737Z"
   },
   {
    "duration": 221,
    "start_time": "2021-07-19T20:48:42.739Z"
   },
   {
    "duration": 276,
    "start_time": "2021-07-19T20:49:10.788Z"
   },
   {
    "duration": 4,
    "start_time": "2021-07-19T20:49:16.597Z"
   },
   {
    "duration": 4,
    "start_time": "2021-07-19T20:49:22.780Z"
   },
   {
    "duration": 5,
    "start_time": "2021-07-19T20:49:35.108Z"
   },
   {
    "duration": 3869,
    "start_time": "2021-07-19T20:49:41.062Z"
   },
   {
    "duration": 224,
    "start_time": "2021-07-19T20:50:05.496Z"
   },
   {
    "duration": 48,
    "start_time": "2021-07-19T20:50:39.917Z"
   },
   {
    "duration": 49,
    "start_time": "2021-07-19T20:50:57.974Z"
   },
   {
    "duration": 6,
    "start_time": "2021-07-19T20:51:23.063Z"
   },
   {
    "duration": 47,
    "start_time": "2021-07-19T20:51:40.791Z"
   },
   {
    "duration": 237,
    "start_time": "2021-07-19T20:51:55.567Z"
   },
   {
    "duration": 104,
    "start_time": "2021-07-19T20:52:10.144Z"
   },
   {
    "duration": 4250,
    "start_time": "2021-07-19T21:06:42.818Z"
   },
   {
    "duration": 2,
    "start_time": "2021-07-19T21:06:47.070Z"
   },
   {
    "duration": 3567,
    "start_time": "2021-07-19T21:06:47.075Z"
   },
   {
    "duration": 17825,
    "start_time": "2021-07-19T21:06:50.644Z"
   },
   {
    "duration": 94708,
    "start_time": "2021-07-19T21:07:08.471Z"
   },
   {
    "duration": 4,
    "start_time": "2021-07-19T21:08:43.180Z"
   },
   {
    "duration": 1663,
    "start_time": "2021-07-19T21:08:43.186Z"
   },
   {
    "duration": 22,
    "start_time": "2021-07-19T21:08:44.851Z"
   },
   {
    "duration": 4,
    "start_time": "2021-07-19T21:08:44.877Z"
   },
   {
    "duration": 3737,
    "start_time": "2021-07-19T21:08:44.883Z"
   },
   {
    "duration": 12668,
    "start_time": "2021-07-19T21:08:48.621Z"
   },
   {
    "duration": 632,
    "start_time": "2021-07-19T21:09:01.290Z"
   },
   {
    "duration": 289,
    "start_time": "2021-07-19T21:09:01.634Z"
   },
   {
    "duration": 287,
    "start_time": "2021-07-19T21:09:01.637Z"
   },
   {
    "duration": 284,
    "start_time": "2021-07-19T21:09:01.641Z"
   },
   {
    "duration": 281,
    "start_time": "2021-07-19T21:09:01.645Z"
   },
   {
    "duration": 280,
    "start_time": "2021-07-19T21:09:01.647Z"
   },
   {
    "duration": 279,
    "start_time": "2021-07-19T21:09:01.649Z"
   },
   {
    "duration": 278,
    "start_time": "2021-07-19T21:09:01.651Z"
   },
   {
    "duration": 275,
    "start_time": "2021-07-19T21:09:01.655Z"
   },
   {
    "duration": 273,
    "start_time": "2021-07-19T21:09:01.658Z"
   },
   {
    "duration": 272,
    "start_time": "2021-07-19T21:09:01.660Z"
   },
   {
    "duration": 270,
    "start_time": "2021-07-19T21:09:01.662Z"
   },
   {
    "duration": 269,
    "start_time": "2021-07-19T21:09:01.664Z"
   },
   {
    "duration": 268,
    "start_time": "2021-07-19T21:09:01.666Z"
   },
   {
    "duration": 4448,
    "start_time": "2021-07-19T21:11:04.806Z"
   },
   {
    "duration": 2,
    "start_time": "2021-07-19T21:11:09.256Z"
   },
   {
    "duration": 3218,
    "start_time": "2021-07-19T21:11:09.260Z"
   },
   {
    "duration": 24828,
    "start_time": "2021-07-19T21:11:12.480Z"
   },
   {
    "duration": 95894,
    "start_time": "2021-07-19T21:11:37.310Z"
   },
   {
    "duration": 4,
    "start_time": "2021-07-19T21:13:13.206Z"
   },
   {
    "duration": 1741,
    "start_time": "2021-07-19T21:13:13.212Z"
   },
   {
    "duration": 28,
    "start_time": "2021-07-19T21:13:14.956Z"
   },
   {
    "duration": 4,
    "start_time": "2021-07-19T21:13:14.986Z"
   },
   {
    "duration": 3752,
    "start_time": "2021-07-19T21:13:14.992Z"
   },
   {
    "duration": 19583,
    "start_time": "2021-07-19T21:13:18.745Z"
   },
   {
    "duration": 659,
    "start_time": "2021-07-19T21:13:38.330Z"
   },
   {
    "duration": 293,
    "start_time": "2021-07-19T21:13:38.698Z"
   },
   {
    "duration": 291,
    "start_time": "2021-07-19T21:13:38.701Z"
   },
   {
    "duration": 290,
    "start_time": "2021-07-19T21:13:38.703Z"
   },
   {
    "duration": 289,
    "start_time": "2021-07-19T21:13:38.705Z"
   },
   {
    "duration": 287,
    "start_time": "2021-07-19T21:13:38.708Z"
   },
   {
    "duration": 285,
    "start_time": "2021-07-19T21:13:38.711Z"
   },
   {
    "duration": 284,
    "start_time": "2021-07-19T21:13:38.713Z"
   },
   {
    "duration": 283,
    "start_time": "2021-07-19T21:13:38.715Z"
   },
   {
    "duration": 282,
    "start_time": "2021-07-19T21:13:38.717Z"
   },
   {
    "duration": 281,
    "start_time": "2021-07-19T21:13:38.719Z"
   },
   {
    "duration": 280,
    "start_time": "2021-07-19T21:13:38.721Z"
   },
   {
    "duration": 279,
    "start_time": "2021-07-19T21:13:38.723Z"
   },
   {
    "duration": 278,
    "start_time": "2021-07-19T21:13:38.725Z"
   },
   {
    "duration": 4,
    "start_time": "2021-07-19T21:17:40.999Z"
   },
   {
    "duration": 3,
    "start_time": "2021-07-19T21:17:53.780Z"
   },
   {
    "duration": 2,
    "start_time": "2021-07-19T21:19:55.455Z"
   },
   {
    "duration": 3,
    "start_time": "2021-07-19T21:20:03.206Z"
   },
   {
    "duration": 4,
    "start_time": "2021-07-19T21:21:07.136Z"
   },
   {
    "duration": 4,
    "start_time": "2021-07-19T21:21:10.608Z"
   },
   {
    "duration": 3,
    "start_time": "2021-07-19T21:21:51.018Z"
   },
   {
    "duration": 5,
    "start_time": "2021-07-19T21:22:00.385Z"
   },
   {
    "duration": 4,
    "start_time": "2021-07-19T21:22:06.403Z"
   },
   {
    "duration": 274,
    "start_time": "2021-07-19T21:22:10.378Z"
   },
   {
    "duration": 3,
    "start_time": "2021-07-19T21:22:16.954Z"
   },
   {
    "duration": 93,
    "start_time": "2021-07-19T21:23:58.797Z"
   },
   {
    "duration": 90,
    "start_time": "2021-07-19T21:24:19.966Z"
   },
   {
    "duration": 94,
    "start_time": "2021-07-19T21:24:35.613Z"
   },
   {
    "duration": 284,
    "start_time": "2021-07-19T21:24:54.438Z"
   },
   {
    "duration": 305,
    "start_time": "2021-07-19T21:25:05.253Z"
   },
   {
    "duration": 13,
    "start_time": "2021-07-19T21:25:11.648Z"
   },
   {
    "duration": 5,
    "start_time": "2021-07-19T21:26:18.791Z"
   },
   {
    "duration": 4,
    "start_time": "2021-07-19T21:26:24.551Z"
   },
   {
    "duration": 4,
    "start_time": "2021-07-19T21:26:29.528Z"
   },
   {
    "duration": 1650,
    "start_time": "2021-07-19T21:27:10.138Z"
   },
   {
    "duration": 3,
    "start_time": "2021-07-19T21:27:37.524Z"
   },
   {
    "duration": 1435,
    "start_time": "2021-07-19T21:28:26.716Z"
   },
   {
    "duration": 4,
    "start_time": "2021-07-19T21:28:31.890Z"
   },
   {
    "duration": 4,
    "start_time": "2021-07-19T21:29:23.435Z"
   },
   {
    "duration": 3,
    "start_time": "2021-07-19T21:29:27.460Z"
   },
   {
    "duration": 10670,
    "start_time": "2021-07-19T21:29:58.693Z"
   },
   {
    "duration": 4,
    "start_time": "2021-07-19T21:30:53.213Z"
   },
   {
    "duration": 269,
    "start_time": "2021-07-19T21:31:54.262Z"
   },
   {
    "duration": 268,
    "start_time": "2021-07-19T21:33:30.856Z"
   },
   {
    "duration": 6,
    "start_time": "2021-07-19T21:33:49.994Z"
   },
   {
    "duration": 6,
    "start_time": "2021-07-19T21:34:21.826Z"
   },
   {
    "duration": 6,
    "start_time": "2021-07-19T21:34:42.898Z"
   },
   {
    "duration": 10767,
    "start_time": "2021-07-19T21:35:36.259Z"
   },
   {
    "duration": 10674,
    "start_time": "2021-07-19T21:40:45.178Z"
   },
   {
    "duration": 3,
    "start_time": "2021-07-19T21:41:32.948Z"
   },
   {
    "duration": 4,
    "start_time": "2021-07-19T21:41:36.867Z"
   },
   {
    "duration": 4271,
    "start_time": "2021-07-19T21:45:50.494Z"
   },
   {
    "duration": 2,
    "start_time": "2021-07-19T21:45:54.767Z"
   },
   {
    "duration": 3689,
    "start_time": "2021-07-19T21:45:54.771Z"
   },
   {
    "duration": 19262,
    "start_time": "2021-07-19T21:45:58.462Z"
   },
   {
    "duration": 2112,
    "start_time": "2021-07-19T21:46:17.726Z"
   },
   {
    "duration": 10,
    "start_time": "2021-07-19T21:46:19.841Z"
   },
   {
    "duration": 1590,
    "start_time": "2021-07-19T21:46:19.853Z"
   },
   {
    "duration": 19,
    "start_time": "2021-07-19T21:46:21.445Z"
   },
   {
    "duration": 4,
    "start_time": "2021-07-19T21:46:21.465Z"
   },
   {
    "duration": 3520,
    "start_time": "2021-07-19T21:46:21.470Z"
   },
   {
    "duration": 861,
    "start_time": "2021-07-19T21:46:24.992Z"
   },
   {
    "duration": 267,
    "start_time": "2021-07-19T21:46:25.588Z"
   },
   {
    "duration": 258,
    "start_time": "2021-07-19T21:46:25.598Z"
   },
   {
    "duration": 243,
    "start_time": "2021-07-19T21:46:25.614Z"
   },
   {
    "duration": 237,
    "start_time": "2021-07-19T21:46:25.621Z"
   },
   {
    "duration": 227,
    "start_time": "2021-07-19T21:46:25.632Z"
   },
   {
    "duration": 222,
    "start_time": "2021-07-19T21:46:25.638Z"
   },
   {
    "duration": 209,
    "start_time": "2021-07-19T21:46:25.652Z"
   },
   {
    "duration": 195,
    "start_time": "2021-07-19T21:46:25.667Z"
   },
   {
    "duration": 189,
    "start_time": "2021-07-19T21:46:25.674Z"
   },
   {
    "duration": 174,
    "start_time": "2021-07-19T21:46:25.690Z"
   },
   {
    "duration": 166,
    "start_time": "2021-07-19T21:46:25.699Z"
   },
   {
    "duration": 164,
    "start_time": "2021-07-19T21:46:25.702Z"
   },
   {
    "duration": 156,
    "start_time": "2021-07-19T21:46:25.711Z"
   },
   {
    "duration": 153,
    "start_time": "2021-07-19T21:46:25.715Z"
   },
   {
    "duration": 151,
    "start_time": "2021-07-19T21:46:25.718Z"
   },
   {
    "duration": 148,
    "start_time": "2021-07-19T21:46:25.722Z"
   },
   {
    "duration": 140,
    "start_time": "2021-07-19T21:46:25.731Z"
   },
   {
    "duration": 138,
    "start_time": "2021-07-19T21:46:25.734Z"
   },
   {
    "duration": 4236,
    "start_time": "2021-07-19T21:48:34.520Z"
   },
   {
    "duration": 2,
    "start_time": "2021-07-19T21:48:38.758Z"
   },
   {
    "duration": 3469,
    "start_time": "2021-07-19T21:48:38.762Z"
   },
   {
    "duration": 16015,
    "start_time": "2021-07-19T21:48:42.240Z"
   },
   {
    "duration": 2163,
    "start_time": "2021-07-19T21:48:58.257Z"
   },
   {
    "duration": 9,
    "start_time": "2021-07-19T21:49:00.422Z"
   },
   {
    "duration": 936,
    "start_time": "2021-07-19T21:49:00.440Z"
   },
   {
    "duration": 17,
    "start_time": "2021-07-19T21:49:01.378Z"
   },
   {
    "duration": 28,
    "start_time": "2021-07-19T21:49:01.397Z"
   },
   {
    "duration": 3513,
    "start_time": "2021-07-19T21:49:01.427Z"
   },
   {
    "duration": 34,
    "start_time": "2021-07-19T21:49:04.942Z"
   },
   {
    "duration": 22,
    "start_time": "2021-07-19T21:49:04.977Z"
   },
   {
    "duration": 41,
    "start_time": "2021-07-19T21:49:05.001Z"
   },
   {
    "duration": 377,
    "start_time": "2021-07-19T21:49:05.044Z"
   },
   {
    "duration": 6159,
    "start_time": "2021-07-19T21:49:05.423Z"
   },
   {
    "duration": 3,
    "start_time": "2021-07-19T21:49:11.583Z"
   },
   {
    "duration": 10,
    "start_time": "2021-07-19T21:49:11.588Z"
   },
   {
    "duration": 10,
    "start_time": "2021-07-19T21:49:11.600Z"
   },
   {
    "duration": 7980,
    "start_time": "2021-07-19T21:49:11.612Z"
   },
   {
    "duration": 182177,
    "start_time": "2021-07-19T21:49:19.593Z"
   },
   {
    "duration": 23557,
    "start_time": "2021-07-19T21:52:21.771Z"
   },
   {
    "duration": 740,
    "start_time": "2021-07-19T21:52:45.330Z"
   },
   {
    "duration": 8,
    "start_time": "2021-07-19T21:52:46.073Z"
   },
   {
    "duration": 7916,
    "start_time": "2021-07-19T22:14:19.875Z"
   },
   {
    "duration": 757,
    "start_time": "2021-07-19T22:14:32.885Z"
   },
   {
    "duration": 1256,
    "start_time": "2021-07-20T16:10:32.491Z"
   },
   {
    "duration": 6997,
    "start_time": "2021-07-20T16:10:44.818Z"
   },
   {
    "duration": 4,
    "start_time": "2021-07-20T16:10:51.818Z"
   },
   {
    "duration": 2030,
    "start_time": "2021-07-20T16:10:51.825Z"
   },
   {
    "duration": 34979,
    "start_time": "2021-07-20T16:10:53.859Z"
   },
   {
    "duration": 3624,
    "start_time": "2021-07-20T16:11:28.842Z"
   },
   {
    "duration": 22,
    "start_time": "2021-07-20T16:11:32.469Z"
   },
   {
    "duration": 2274,
    "start_time": "2021-07-20T16:11:32.494Z"
   },
   {
    "duration": 41,
    "start_time": "2021-07-20T16:11:34.774Z"
   },
   {
    "duration": 5,
    "start_time": "2021-07-20T16:11:34.818Z"
   },
   {
    "duration": 5482,
    "start_time": "2021-07-20T16:11:34.826Z"
   },
   {
    "duration": 61,
    "start_time": "2021-07-20T16:11:40.311Z"
   },
   {
    "duration": 34,
    "start_time": "2021-07-20T16:11:40.374Z"
   },
   {
    "duration": 60,
    "start_time": "2021-07-20T16:11:40.410Z"
   },
   {
    "duration": 422,
    "start_time": "2021-07-20T16:11:40.474Z"
   },
   {
    "duration": 10914,
    "start_time": "2021-07-20T16:11:40.899Z"
   },
   {
    "duration": 5,
    "start_time": "2021-07-20T16:11:51.816Z"
   },
   {
    "duration": 33,
    "start_time": "2021-07-20T16:11:51.824Z"
   },
   {
    "duration": 4,
    "start_time": "2021-07-20T16:11:51.861Z"
   },
   {
    "duration": 8857,
    "start_time": "2021-07-20T16:11:51.869Z"
   },
   {
    "duration": 6483,
    "start_time": "2021-07-20T16:16:02.473Z"
   },
   {
    "duration": 5,
    "start_time": "2021-07-20T16:16:08.960Z"
   },
   {
    "duration": 2175,
    "start_time": "2021-07-20T16:16:08.969Z"
   },
   {
    "duration": 26256,
    "start_time": "2021-07-20T16:16:11.147Z"
   },
   {
    "duration": 3330,
    "start_time": "2021-07-20T16:16:37.407Z"
   },
   {
    "duration": 25,
    "start_time": "2021-07-20T16:16:40.742Z"
   },
   {
    "duration": 1744,
    "start_time": "2021-07-20T16:16:40.770Z"
   },
   {
    "duration": 43,
    "start_time": "2021-07-20T16:16:42.519Z"
   },
   {
    "duration": 8,
    "start_time": "2021-07-20T16:16:42.567Z"
   },
   {
    "duration": 8829,
    "start_time": "2021-07-20T16:16:42.579Z"
   },
   {
    "duration": 73,
    "start_time": "2021-07-20T16:16:51.412Z"
   },
   {
    "duration": 52,
    "start_time": "2021-07-20T16:16:51.488Z"
   },
   {
    "duration": 50,
    "start_time": "2021-07-20T16:16:51.543Z"
   },
   {
    "duration": 412,
    "start_time": "2021-07-20T16:16:51.596Z"
   },
   {
    "duration": 18390,
    "start_time": "2021-07-20T16:16:52.011Z"
   },
   {
    "duration": 5,
    "start_time": "2021-07-20T16:17:10.404Z"
   },
   {
    "duration": 16,
    "start_time": "2021-07-20T16:17:10.412Z"
   },
   {
    "duration": 27,
    "start_time": "2021-07-20T16:17:10.431Z"
   },
   {
    "duration": 8974,
    "start_time": "2021-07-20T16:17:10.461Z"
   },
   {
    "duration": 424494,
    "start_time": "2021-07-20T16:17:19.437Z"
   },
   {
    "duration": 40342,
    "start_time": "2021-07-20T16:24:23.934Z"
   },
   {
    "duration": 1362,
    "start_time": "2021-07-20T16:25:04.278Z"
   },
   {
    "duration": 2176,
    "start_time": "2021-07-20T16:25:05.643Z"
   },
   {
    "duration": 892,
    "start_time": "2021-07-20T16:25:06.930Z"
   },
   {
    "duration": 13,
    "start_time": "2021-07-30T10:48:01.843Z"
   },
   {
    "duration": 5,
    "start_time": "2021-07-30T10:48:28.698Z"
   },
   {
    "duration": 5,
    "start_time": "2021-07-30T10:48:43.458Z"
   },
   {
    "duration": 5,
    "start_time": "2021-07-30T10:49:02.067Z"
   },
   {
    "duration": 5,
    "start_time": "2021-07-30T10:49:37.027Z"
   },
   {
    "duration": 5,
    "start_time": "2021-07-30T10:51:39.965Z"
   },
   {
    "duration": 5,
    "start_time": "2021-07-30T10:52:01.071Z"
   },
   {
    "duration": 8,
    "start_time": "2021-07-30T10:52:16.711Z"
   },
   {
    "duration": 5,
    "start_time": "2021-07-30T10:53:19.906Z"
   },
   {
    "duration": 5,
    "start_time": "2021-07-30T10:53:26.064Z"
   },
   {
    "duration": 5,
    "start_time": "2021-07-30T10:56:45.381Z"
   },
   {
    "duration": 6,
    "start_time": "2021-07-30T10:57:56.047Z"
   },
   {
    "duration": 5,
    "start_time": "2021-07-30T10:58:11.103Z"
   },
   {
    "duration": 345,
    "start_time": "2021-07-30T12:16:35.504Z"
   },
   {
    "duration": 6060,
    "start_time": "2021-07-30T12:16:47.411Z"
   },
   {
    "duration": 3,
    "start_time": "2021-07-30T12:16:53.474Z"
   },
   {
    "duration": 773,
    "start_time": "2021-07-30T12:16:53.480Z"
   },
   {
    "duration": 44,
    "start_time": "2021-07-30T12:16:54.257Z"
   },
   {
    "duration": 37471,
    "start_time": "2021-07-30T12:16:54.304Z"
   },
   {
    "duration": 2882,
    "start_time": "2021-07-30T12:17:31.778Z"
   },
   {
    "duration": 13,
    "start_time": "2021-07-30T12:17:34.662Z"
   },
   {
    "duration": 2118,
    "start_time": "2021-07-30T12:17:34.679Z"
   },
   {
    "duration": 27,
    "start_time": "2021-07-30T12:17:36.800Z"
   },
   {
    "duration": 5,
    "start_time": "2021-07-30T12:17:36.830Z"
   },
   {
    "duration": 5577,
    "start_time": "2021-07-30T12:17:36.837Z"
   },
   {
    "duration": 224,
    "start_time": "2021-07-30T12:17:42.416Z"
   },
   {
    "duration": 43,
    "start_time": "2021-07-30T12:17:42.642Z"
   },
   {
    "duration": 35,
    "start_time": "2021-07-30T12:17:42.687Z"
   },
   {
    "duration": 266,
    "start_time": "2021-07-30T12:17:42.726Z"
   },
   {
    "duration": 10898,
    "start_time": "2021-07-30T12:17:42.995Z"
   },
   {
    "duration": 4,
    "start_time": "2021-07-30T12:17:53.896Z"
   },
   {
    "duration": 234,
    "start_time": "2021-07-30T12:17:53.903Z"
   },
   {
    "duration": 9,
    "start_time": "2021-07-30T12:17:54.141Z"
   },
   {
    "duration": 8088,
    "start_time": "2021-07-30T12:17:54.153Z"
   },
   {
    "duration": 7513,
    "start_time": "2021-07-30T12:18:55.468Z"
   },
   {
    "duration": 3,
    "start_time": "2021-07-30T12:19:02.984Z"
   },
   {
    "duration": 798,
    "start_time": "2021-07-30T12:19:02.990Z"
   },
   {
    "duration": 33,
    "start_time": "2021-07-30T12:19:03.791Z"
   },
   {
    "duration": 108,
    "start_time": "2021-07-30T12:19:03.827Z"
   },
   {
    "duration": 26726,
    "start_time": "2021-07-30T12:19:03.938Z"
   },
   {
    "duration": 2864,
    "start_time": "2021-07-30T12:19:30.667Z"
   },
   {
    "duration": 9,
    "start_time": "2021-07-30T12:19:33.534Z"
   },
   {
    "duration": 1659,
    "start_time": "2021-07-30T12:19:33.546Z"
   },
   {
    "duration": 30,
    "start_time": "2021-07-30T12:19:35.208Z"
   },
   {
    "duration": 5,
    "start_time": "2021-07-30T12:19:35.240Z"
   },
   {
    "duration": 5554,
    "start_time": "2021-07-30T12:19:35.268Z"
   },
   {
    "duration": 50,
    "start_time": "2021-07-30T12:19:40.824Z"
   },
   {
    "duration": 31,
    "start_time": "2021-07-30T12:19:40.876Z"
   },
   {
    "duration": 62,
    "start_time": "2021-07-30T12:19:40.910Z"
   },
   {
    "duration": 230,
    "start_time": "2021-07-30T12:19:40.975Z"
   },
   {
    "duration": 10893,
    "start_time": "2021-07-30T12:19:41.208Z"
   },
   {
    "duration": 3,
    "start_time": "2021-07-30T12:19:52.104Z"
   },
   {
    "duration": 32,
    "start_time": "2021-07-30T12:19:52.109Z"
   },
   {
    "duration": 5,
    "start_time": "2021-07-30T12:19:52.143Z"
   },
   {
    "duration": 7996,
    "start_time": "2021-07-30T12:19:52.151Z"
   },
   {
    "duration": 5994,
    "start_time": "2021-07-30T12:22:16.251Z"
   },
   {
    "duration": 3,
    "start_time": "2021-07-30T12:22:22.248Z"
   },
   {
    "duration": 782,
    "start_time": "2021-07-30T12:22:22.255Z"
   },
   {
    "duration": 34,
    "start_time": "2021-07-30T12:22:23.040Z"
   },
   {
    "duration": 25415,
    "start_time": "2021-07-30T12:22:23.077Z"
   },
   {
    "duration": 2807,
    "start_time": "2021-07-30T12:22:48.495Z"
   },
   {
    "duration": 9,
    "start_time": "2021-07-30T12:22:51.305Z"
   },
   {
    "duration": 1632,
    "start_time": "2021-07-30T12:22:51.316Z"
   },
   {
    "duration": 29,
    "start_time": "2021-07-30T12:22:52.952Z"
   },
   {
    "duration": 5,
    "start_time": "2021-07-30T12:22:52.984Z"
   },
   {
    "duration": 5521,
    "start_time": "2021-07-30T12:22:52.992Z"
   },
   {
    "duration": 31,
    "start_time": "2021-07-30T12:22:58.515Z"
   },
   {
    "duration": 1072,
    "start_time": "2021-07-30T12:22:58.548Z"
   },
   {
    "duration": 683,
    "start_time": "2021-07-30T12:22:58.939Z"
   },
   {
    "duration": 680,
    "start_time": "2021-07-30T12:22:58.944Z"
   },
   {
    "duration": 674,
    "start_time": "2021-07-30T12:22:58.951Z"
   },
   {
    "duration": 671,
    "start_time": "2021-07-30T12:22:58.956Z"
   },
   {
    "duration": 666,
    "start_time": "2021-07-30T12:22:58.962Z"
   },
   {
    "duration": 663,
    "start_time": "2021-07-30T12:22:58.967Z"
   },
   {
    "duration": 660,
    "start_time": "2021-07-30T12:22:58.971Z"
   },
   {
    "duration": 659,
    "start_time": "2021-07-30T12:22:58.974Z"
   },
   {
    "duration": 657,
    "start_time": "2021-07-30T12:22:58.977Z"
   },
   {
    "duration": 652,
    "start_time": "2021-07-30T12:22:58.983Z"
   },
   {
    "duration": 651,
    "start_time": "2021-07-30T12:22:58.986Z"
   },
   {
    "duration": 650,
    "start_time": "2021-07-30T12:22:58.988Z"
   },
   {
    "duration": 648,
    "start_time": "2021-07-30T12:22:58.991Z"
   },
   {
    "duration": 647,
    "start_time": "2021-07-30T12:22:58.994Z"
   },
   {
    "duration": 109,
    "start_time": "2021-07-30T12:26:37.638Z"
   },
   {
    "duration": 356,
    "start_time": "2021-07-30T12:27:06.223Z"
   },
   {
    "duration": 3030,
    "start_time": "2021-07-30T12:27:40.303Z"
   },
   {
    "duration": 682,
    "start_time": "2021-07-30T12:29:24.571Z"
   },
   {
    "duration": 697,
    "start_time": "2021-07-30T12:30:39.189Z"
   },
   {
    "duration": 339,
    "start_time": "2021-07-30T12:31:26.327Z"
   },
   {
    "duration": 505,
    "start_time": "2021-07-30T12:31:30.716Z"
   },
   {
    "duration": 2307,
    "start_time": "2021-07-30T12:33:34.640Z"
   },
   {
    "duration": 5,
    "start_time": "2021-07-30T12:33:44.623Z"
   },
   {
    "duration": 6,
    "start_time": "2021-07-30T12:34:02.521Z"
   },
   {
    "duration": 6,
    "start_time": "2021-07-30T12:34:08.847Z"
   },
   {
    "duration": 6,
    "start_time": "2021-07-30T12:34:14.111Z"
   },
   {
    "duration": 7,
    "start_time": "2021-07-30T12:34:46.648Z"
   },
   {
    "duration": 6,
    "start_time": "2021-07-30T12:35:02.112Z"
   },
   {
    "duration": 6,
    "start_time": "2021-07-30T12:35:16.281Z"
   },
   {
    "duration": 5,
    "start_time": "2021-07-30T12:35:30.521Z"
   },
   {
    "duration": 6,
    "start_time": "2021-07-30T12:35:41.002Z"
   },
   {
    "duration": 5,
    "start_time": "2021-07-30T12:35:45.906Z"
   },
   {
    "duration": 5,
    "start_time": "2021-07-30T12:35:53.513Z"
   },
   {
    "duration": 5,
    "start_time": "2021-07-30T12:43:07.779Z"
   },
   {
    "duration": 17,
    "start_time": "2021-07-30T12:45:07.558Z"
   },
   {
    "duration": 295,
    "start_time": "2021-07-30T12:45:33.233Z"
   },
   {
    "duration": 7,
    "start_time": "2021-07-30T12:45:46.560Z"
   },
   {
    "duration": 8,
    "start_time": "2021-07-30T12:46:03.519Z"
   },
   {
    "duration": 5,
    "start_time": "2021-07-30T12:46:29.648Z"
   },
   {
    "duration": 387,
    "start_time": "2021-07-30T12:48:10.572Z"
   },
   {
    "duration": 365,
    "start_time": "2021-07-30T12:48:46.915Z"
   },
   {
    "duration": 336,
    "start_time": "2021-07-30T12:49:23.491Z"
   },
   {
    "duration": 354,
    "start_time": "2021-07-30T12:50:18.261Z"
   },
   {
    "duration": 1487,
    "start_time": "2021-07-30T12:51:58.047Z"
   },
   {
    "duration": 597,
    "start_time": "2021-07-30T12:56:31.365Z"
   },
   {
    "duration": 1109,
    "start_time": "2021-07-30T12:56:59.870Z"
   },
   {
    "duration": 5864,
    "start_time": "2021-07-30T12:58:06.903Z"
   },
   {
    "duration": 3,
    "start_time": "2021-07-30T12:58:12.770Z"
   },
   {
    "duration": 823,
    "start_time": "2021-07-30T12:58:12.776Z"
   },
   {
    "duration": 31,
    "start_time": "2021-07-30T12:58:13.602Z"
   },
   {
    "duration": 24318,
    "start_time": "2021-07-30T12:58:13.636Z"
   },
   {
    "duration": 2873,
    "start_time": "2021-07-30T12:58:37.957Z"
   },
   {
    "duration": 16,
    "start_time": "2021-07-30T12:58:40.832Z"
   },
   {
    "duration": 1642,
    "start_time": "2021-07-30T12:58:40.850Z"
   },
   {
    "duration": 26,
    "start_time": "2021-07-30T12:58:42.496Z"
   },
   {
    "duration": 6,
    "start_time": "2021-07-30T12:58:42.525Z"
   },
   {
    "duration": 5734,
    "start_time": "2021-07-30T12:58:42.533Z"
   },
   {
    "duration": 32,
    "start_time": "2021-07-30T12:58:48.270Z"
   },
   {
    "duration": 1097,
    "start_time": "2021-07-30T12:58:48.305Z"
   },
   {
    "duration": 65,
    "start_time": "2021-07-30T12:58:49.405Z"
   },
   {
    "duration": 30,
    "start_time": "2021-07-30T12:58:49.472Z"
   },
   {
    "duration": 29,
    "start_time": "2021-07-30T12:58:49.504Z"
   },
   {
    "duration": 288,
    "start_time": "2021-07-30T12:58:49.536Z"
   },
   {
    "duration": 11153,
    "start_time": "2021-07-30T12:58:49.826Z"
   },
   {
    "duration": 4,
    "start_time": "2021-07-30T12:59:00.981Z"
   },
   {
    "duration": 19,
    "start_time": "2021-07-30T12:59:00.988Z"
   },
   {
    "duration": 7,
    "start_time": "2021-07-30T12:59:01.009Z"
   },
   {
    "duration": 7921,
    "start_time": "2021-07-30T12:59:01.018Z"
   },
   {
    "duration": 336629,
    "start_time": "2021-07-30T12:59:08.941Z"
   },
   {
    "duration": 36802,
    "start_time": "2021-07-30T13:04:45.572Z"
   },
   {
    "duration": 1356,
    "start_time": "2021-07-30T13:05:22.376Z"
   },
   {
    "duration": 2317,
    "start_time": "2021-07-30T13:05:23.734Z"
   },
   {
    "duration": 753,
    "start_time": "2021-07-30T13:05:25.301Z"
   },
   {
    "duration": 752,
    "start_time": "2021-07-30T13:05:25.304Z"
   },
   {
    "duration": 1319,
    "start_time": "2021-07-30T13:06:46.909Z"
   },
   {
    "duration": 348,
    "start_time": "2021-07-30T13:07:05.572Z"
   },
   {
    "duration": 361,
    "start_time": "2021-07-30T13:07:21.397Z"
   },
   {
    "duration": 6,
    "start_time": "2021-07-30T13:07:33.509Z"
   },
   {
    "duration": 6,
    "start_time": "2021-07-30T13:07:43.365Z"
   },
   {
    "duration": 7,
    "start_time": "2021-07-30T13:07:53.470Z"
   },
   {
    "duration": 5,
    "start_time": "2021-07-30T13:08:00.527Z"
   },
   {
    "duration": 1264,
    "start_time": "2021-07-30T13:08:51.960Z"
   },
   {
    "duration": 490,
    "start_time": "2021-07-30T13:09:00.088Z"
   },
   {
    "duration": 330,
    "start_time": "2021-07-30T13:10:53.130Z"
   },
   {
    "duration": 5,
    "start_time": "2021-07-30T13:11:07.747Z"
   },
   {
    "duration": 7,
    "start_time": "2021-07-30T13:13:04.637Z"
   },
   {
    "duration": 120,
    "start_time": "2021-07-30T13:13:28.973Z"
   },
   {
    "duration": 419,
    "start_time": "2021-07-30T13:14:36.665Z"
   },
   {
    "duration": 126,
    "start_time": "2021-07-30T13:14:51.168Z"
   },
   {
    "duration": 14,
    "start_time": "2021-07-30T13:16:47.785Z"
   },
   {
    "duration": 6718,
    "start_time": "2021-07-30T13:18:41.533Z"
   },
   {
    "duration": 3,
    "start_time": "2021-07-30T13:18:48.255Z"
   },
   {
    "duration": 827,
    "start_time": "2021-07-30T13:18:48.272Z"
   },
   {
    "duration": 37,
    "start_time": "2021-07-30T13:18:49.103Z"
   },
   {
    "duration": 24779,
    "start_time": "2021-07-30T13:18:49.143Z"
   },
   {
    "duration": 2999,
    "start_time": "2021-07-30T13:19:13.925Z"
   },
   {
    "duration": 15,
    "start_time": "2021-07-30T13:19:16.927Z"
   },
   {
    "duration": 1680,
    "start_time": "2021-07-30T13:19:16.947Z"
   },
   {
    "duration": 37,
    "start_time": "2021-07-30T13:19:18.630Z"
   },
   {
    "duration": 5,
    "start_time": "2021-07-30T13:19:18.670Z"
   },
   {
    "duration": 5816,
    "start_time": "2021-07-30T13:19:18.678Z"
   },
   {
    "duration": 30,
    "start_time": "2021-07-30T13:19:24.497Z"
   },
   {
    "duration": 1055,
    "start_time": "2021-07-30T13:19:24.530Z"
   },
   {
    "duration": 31,
    "start_time": "2021-07-30T13:19:25.588Z"
   },
   {
    "duration": 859,
    "start_time": "2021-07-30T13:19:25.622Z"
   },
   {
    "duration": 946,
    "start_time": "2021-07-30T13:19:26.483Z"
   },
   {
    "duration": 801,
    "start_time": "2021-07-30T13:19:26.632Z"
   },
   {
    "duration": 799,
    "start_time": "2021-07-30T13:19:26.635Z"
   },
   {
    "duration": 795,
    "start_time": "2021-07-30T13:19:26.641Z"
   },
   {
    "duration": 795,
    "start_time": "2021-07-30T13:19:26.643Z"
   },
   {
    "duration": 796,
    "start_time": "2021-07-30T13:19:26.645Z"
   },
   {
    "duration": 795,
    "start_time": "2021-07-30T13:19:26.648Z"
   },
   {
    "duration": 793,
    "start_time": "2021-07-30T13:19:26.652Z"
   },
   {
    "duration": 774,
    "start_time": "2021-07-30T13:19:26.674Z"
   },
   {
    "duration": 774,
    "start_time": "2021-07-30T13:19:26.676Z"
   },
   {
    "duration": 773,
    "start_time": "2021-07-30T13:19:26.679Z"
   },
   {
    "duration": 771,
    "start_time": "2021-07-30T13:19:26.683Z"
   },
   {
    "duration": 771,
    "start_time": "2021-07-30T13:19:26.686Z"
   },
   {
    "duration": 771,
    "start_time": "2021-07-30T13:19:26.688Z"
   },
   {
    "duration": 770,
    "start_time": "2021-07-30T13:19:26.691Z"
   },
   {
    "duration": 5,
    "start_time": "2021-07-30T13:21:46.208Z"
   },
   {
    "duration": 6111,
    "start_time": "2021-07-30T13:22:37.856Z"
   },
   {
    "duration": 5,
    "start_time": "2021-07-30T13:22:43.971Z"
   },
   {
    "duration": 917,
    "start_time": "2021-07-30T13:22:43.981Z"
   },
   {
    "duration": 33,
    "start_time": "2021-07-30T13:22:44.900Z"
   },
   {
    "duration": 27656,
    "start_time": "2021-07-30T13:22:44.935Z"
   },
   {
    "duration": 3011,
    "start_time": "2021-07-30T13:23:12.599Z"
   },
   {
    "duration": 10,
    "start_time": "2021-07-30T13:23:15.613Z"
   },
   {
    "duration": 1903,
    "start_time": "2021-07-30T13:23:15.625Z"
   },
   {
    "duration": 39,
    "start_time": "2021-07-30T13:23:17.532Z"
   },
   {
    "duration": 6,
    "start_time": "2021-07-30T13:23:17.574Z"
   },
   {
    "duration": 6021,
    "start_time": "2021-07-30T13:23:17.583Z"
   },
   {
    "duration": 34,
    "start_time": "2021-07-30T13:23:23.607Z"
   },
   {
    "duration": 1151,
    "start_time": "2021-07-30T13:23:23.645Z"
   },
   {
    "duration": 27,
    "start_time": "2021-07-30T13:23:24.799Z"
   },
   {
    "duration": 858,
    "start_time": "2021-07-30T13:23:24.829Z"
   },
   {
    "duration": 35991,
    "start_time": "2021-07-30T14:13:47.278Z"
   },
   {
    "duration": 240,
    "start_time": "2021-07-30T16:18:57.681Z"
   },
   {
    "duration": 169,
    "start_time": "2021-07-30T16:20:39.316Z"
   },
   {
    "duration": 8473,
    "start_time": "2021-07-30T16:20:55.833Z"
   },
   {
    "duration": 4,
    "start_time": "2021-07-30T16:21:04.310Z"
   },
   {
    "duration": 950,
    "start_time": "2021-07-30T16:21:04.317Z"
   },
   {
    "duration": 37,
    "start_time": "2021-07-30T16:21:05.271Z"
   },
   {
    "duration": 27349,
    "start_time": "2021-07-30T16:21:05.311Z"
   },
   {
    "duration": 3126,
    "start_time": "2021-07-30T16:21:32.667Z"
   },
   {
    "duration": 14,
    "start_time": "2021-07-30T16:21:35.796Z"
   },
   {
    "duration": 2441,
    "start_time": "2021-07-30T16:21:35.814Z"
   },
   {
    "duration": 58,
    "start_time": "2021-07-30T16:21:38.258Z"
   },
   {
    "duration": 6,
    "start_time": "2021-07-30T16:21:38.318Z"
   },
   {
    "duration": 5927,
    "start_time": "2021-07-30T16:21:38.326Z"
   },
   {
    "duration": 41,
    "start_time": "2021-07-30T16:21:44.256Z"
   },
   {
    "duration": 1691,
    "start_time": "2021-07-30T16:21:44.300Z"
   },
   {
    "duration": 37,
    "start_time": "2021-07-30T16:21:45.994Z"
   },
   {
    "duration": 993,
    "start_time": "2021-07-30T16:21:46.034Z"
   },
   {
    "duration": 1749,
    "start_time": "2021-07-30T16:21:47.030Z"
   },
   {
    "duration": 5,
    "start_time": "2021-07-30T16:21:48.782Z"
   },
   {
    "duration": 311,
    "start_time": "2021-07-30T16:21:48.790Z"
   },
   {
    "duration": 1046,
    "start_time": "2021-07-30T16:21:48.059Z"
   },
   {
    "duration": 1045,
    "start_time": "2021-07-30T16:21:48.061Z"
   },
   {
    "duration": 1034,
    "start_time": "2021-07-30T16:21:48.073Z"
   },
   {
    "duration": 1032,
    "start_time": "2021-07-30T16:21:48.076Z"
   },
   {
    "duration": 1032,
    "start_time": "2021-07-30T16:21:48.078Z"
   },
   {
    "duration": 1029,
    "start_time": "2021-07-30T16:21:48.082Z"
   },
   {
    "duration": 1027,
    "start_time": "2021-07-30T16:21:48.085Z"
   },
   {
    "duration": 1026,
    "start_time": "2021-07-30T16:21:48.088Z"
   },
   {
    "duration": 1026,
    "start_time": "2021-07-30T16:21:48.090Z"
   },
   {
    "duration": 1025,
    "start_time": "2021-07-30T16:21:48.092Z"
   },
   {
    "duration": 1024,
    "start_time": "2021-07-30T16:21:48.094Z"
   },
   {
    "duration": 1018,
    "start_time": "2021-07-30T16:21:48.102Z"
   },
   {
    "duration": 1016,
    "start_time": "2021-07-30T16:21:48.105Z"
   },
   {
    "duration": 29,
    "start_time": "2021-07-30T16:22:19.933Z"
   },
   {
    "duration": 38,
    "start_time": "2021-07-30T16:22:32.910Z"
   },
   {
    "duration": 40,
    "start_time": "2021-07-30T16:23:16.070Z"
   },
   {
    "duration": 35,
    "start_time": "2021-07-30T16:24:15.152Z"
   },
   {
    "duration": 36,
    "start_time": "2021-07-30T16:24:33.161Z"
   },
   {
    "duration": 36,
    "start_time": "2021-07-30T16:24:40.683Z"
   },
   {
    "duration": 30,
    "start_time": "2021-07-30T16:24:48.441Z"
   },
   {
    "duration": 39,
    "start_time": "2021-07-30T16:24:54.920Z"
   },
   {
    "duration": 48,
    "start_time": "2021-07-30T16:25:01.147Z"
   },
   {
    "duration": 459,
    "start_time": "2021-07-30T16:25:41.687Z"
   },
   {
    "duration": 1052,
    "start_time": "2021-07-30T16:26:01.276Z"
   },
   {
    "duration": 893,
    "start_time": "2021-07-30T16:26:57.364Z"
   },
   {
    "duration": 1014,
    "start_time": "2021-07-30T16:27:05.391Z"
   },
   {
    "duration": 915,
    "start_time": "2021-07-30T16:28:27.927Z"
   },
   {
    "duration": 2985950,
    "start_time": "2021-07-30T16:28:35.398Z"
   },
   {
    "duration": 7,
    "start_time": "2021-07-30T18:09:37.268Z"
   },
   {
    "duration": 20,
    "start_time": "2021-07-30T18:10:07.379Z"
   },
   {
    "duration": 32,
    "start_time": "2021-07-30T18:10:24.027Z"
   },
   {
    "duration": 4593,
    "start_time": "2021-07-30T18:12:59.625Z"
   },
   {
    "duration": 330,
    "start_time": "2021-07-30T18:25:47.851Z"
   },
   {
    "duration": 6373,
    "start_time": "2021-07-30T18:25:57.539Z"
   },
   {
    "duration": 4,
    "start_time": "2021-07-30T18:26:03.916Z"
   },
   {
    "duration": 1344,
    "start_time": "2021-07-30T18:26:03.924Z"
   },
   {
    "duration": 32,
    "start_time": "2021-07-30T18:26:05.271Z"
   },
   {
    "duration": 24022,
    "start_time": "2021-07-30T18:26:05.306Z"
   },
   {
    "duration": 3066,
    "start_time": "2021-07-30T18:26:29.331Z"
   },
   {
    "duration": 14,
    "start_time": "2021-07-30T18:26:32.400Z"
   },
   {
    "duration": 2291,
    "start_time": "2021-07-30T18:26:32.418Z"
   },
   {
    "duration": 56,
    "start_time": "2021-07-30T18:26:34.713Z"
   },
   {
    "duration": 5,
    "start_time": "2021-07-30T18:26:34.772Z"
   },
   {
    "duration": 5646,
    "start_time": "2021-07-30T18:26:34.779Z"
   },
   {
    "duration": 44,
    "start_time": "2021-07-30T18:26:40.428Z"
   },
   {
    "duration": 976,
    "start_time": "2021-07-30T18:26:40.475Z"
   },
   {
    "duration": 39,
    "start_time": "2021-07-30T18:26:41.454Z"
   },
   {
    "duration": 764,
    "start_time": "2021-07-30T18:26:41.496Z"
   },
   {
    "duration": 1230,
    "start_time": "2021-07-30T18:26:42.263Z"
   },
   {
    "duration": 2511,
    "start_time": "2021-07-30T18:26:43.496Z"
   },
   {
    "duration": 1192,
    "start_time": "2021-07-30T18:26:44.819Z"
   },
   {
    "duration": 1189,
    "start_time": "2021-07-30T18:26:44.823Z"
   },
   {
    "duration": 1189,
    "start_time": "2021-07-30T18:26:44.825Z"
   },
   {
    "duration": 1187,
    "start_time": "2021-07-30T18:26:44.828Z"
   },
   {
    "duration": 1186,
    "start_time": "2021-07-30T18:26:44.831Z"
   },
   {
    "duration": 1185,
    "start_time": "2021-07-30T18:26:44.833Z"
   },
   {
    "duration": 1183,
    "start_time": "2021-07-30T18:26:44.836Z"
   },
   {
    "duration": 1182,
    "start_time": "2021-07-30T18:26:44.839Z"
   },
   {
    "duration": 1180,
    "start_time": "2021-07-30T18:26:44.842Z"
   },
   {
    "duration": 1180,
    "start_time": "2021-07-30T18:26:44.844Z"
   },
   {
    "duration": 1174,
    "start_time": "2021-07-30T18:26:44.851Z"
   },
   {
    "duration": 1172,
    "start_time": "2021-07-30T18:26:44.854Z"
   },
   {
    "duration": 254,
    "start_time": "2021-07-30T18:27:37.569Z"
   },
   {
    "duration": 24,
    "start_time": "2021-07-30T18:28:31.459Z"
   },
   {
    "duration": 7380,
    "start_time": "2021-07-30T18:30:15.823Z"
   },
   {
    "duration": 1215,
    "start_time": "2021-07-30T18:30:31.779Z"
   },
   {
    "duration": 7,
    "start_time": "2021-07-30T18:30:35.887Z"
   },
   {
    "duration": 8,
    "start_time": "2021-07-30T18:30:46.591Z"
   },
   {
    "duration": 6,
    "start_time": "2021-07-30T18:31:13.486Z"
   },
   {
    "duration": 5,
    "start_time": "2021-07-30T18:31:31.232Z"
   },
   {
    "duration": 4,
    "start_time": "2021-07-30T18:31:41.719Z"
   },
   {
    "duration": 11,
    "start_time": "2021-07-30T18:32:48.866Z"
   },
   {
    "duration": 20,
    "start_time": "2021-07-30T18:32:55.210Z"
   },
   {
    "duration": 250,
    "start_time": "2021-07-30T18:34:10.603Z"
   },
   {
    "duration": 307,
    "start_time": "2021-07-30T18:34:30.554Z"
   },
   {
    "duration": 476,
    "start_time": "2021-07-30T18:36:23.904Z"
   },
   {
    "duration": 31,
    "start_time": "2021-07-30T18:36:30.144Z"
   },
   {
    "duration": 27,
    "start_time": "2021-07-30T18:38:16.802Z"
   },
   {
    "duration": 26,
    "start_time": "2021-07-30T18:38:23.775Z"
   },
   {
    "duration": 36,
    "start_time": "2021-07-30T18:38:37.661Z"
   },
   {
    "duration": 1596,
    "start_time": "2021-07-30T18:46:33.844Z"
   },
   {
    "duration": 6353,
    "start_time": "2021-07-30T18:47:51.501Z"
   },
   {
    "duration": 4,
    "start_time": "2021-07-30T18:47:57.856Z"
   },
   {
    "duration": 1357,
    "start_time": "2021-07-30T18:47:57.863Z"
   },
   {
    "duration": 43,
    "start_time": "2021-07-30T18:47:59.224Z"
   },
   {
    "duration": 27485,
    "start_time": "2021-07-30T18:47:59.270Z"
   },
   {
    "duration": 3592,
    "start_time": "2021-07-30T18:48:26.759Z"
   },
   {
    "duration": 17,
    "start_time": "2021-07-30T18:48:30.354Z"
   },
   {
    "duration": 2381,
    "start_time": "2021-07-30T18:48:30.374Z"
   },
   {
    "duration": 51,
    "start_time": "2021-07-30T18:48:32.759Z"
   },
   {
    "duration": 5,
    "start_time": "2021-07-30T18:48:32.813Z"
   },
   {
    "duration": 6115,
    "start_time": "2021-07-30T18:48:32.821Z"
   },
   {
    "duration": 39,
    "start_time": "2021-07-30T18:48:38.939Z"
   },
   {
    "duration": 956,
    "start_time": "2021-07-30T18:48:38.981Z"
   },
   {
    "duration": 34,
    "start_time": "2021-07-30T18:48:39.939Z"
   },
   {
    "duration": 777,
    "start_time": "2021-07-30T18:48:39.975Z"
   },
   {
    "duration": 2843,
    "start_time": "2021-07-30T18:48:40.754Z"
   },
   {
    "duration": 811,
    "start_time": "2021-07-30T18:48:43.601Z"
   },
   {
    "duration": 1233,
    "start_time": "2021-07-30T18:48:43.183Z"
   },
   {
    "duration": 1229,
    "start_time": "2021-07-30T18:48:43.189Z"
   },
   {
    "duration": 1229,
    "start_time": "2021-07-30T18:48:43.191Z"
   },
   {
    "duration": 1228,
    "start_time": "2021-07-30T18:48:43.194Z"
   },
   {
    "duration": 1227,
    "start_time": "2021-07-30T18:48:43.197Z"
   },
   {
    "duration": 1227,
    "start_time": "2021-07-30T18:48:43.199Z"
   },
   {
    "duration": 1222,
    "start_time": "2021-07-30T18:48:43.206Z"
   },
   {
    "duration": 1222,
    "start_time": "2021-07-30T18:48:43.208Z"
   },
   {
    "duration": 1222,
    "start_time": "2021-07-30T18:48:43.210Z"
   },
   {
    "duration": 1223,
    "start_time": "2021-07-30T18:48:43.211Z"
   },
   {
    "duration": 1222,
    "start_time": "2021-07-30T18:48:43.214Z"
   },
   {
    "duration": 1223,
    "start_time": "2021-07-30T18:48:43.216Z"
   },
   {
    "duration": 1217,
    "start_time": "2021-07-30T18:48:43.224Z"
   },
   {
    "duration": 1216,
    "start_time": "2021-07-30T18:48:43.227Z"
   },
   {
    "duration": 3230,
    "start_time": "2021-07-30T18:49:02.743Z"
   },
   {
    "duration": 1529,
    "start_time": "2021-07-30T18:49:24.117Z"
   },
   {
    "duration": 292,
    "start_time": "2021-07-30T18:52:32.546Z"
   },
   {
    "duration": 6652,
    "start_time": "2021-07-30T18:52:41.563Z"
   },
   {
    "duration": 4,
    "start_time": "2021-07-30T18:52:48.218Z"
   },
   {
    "duration": 1393,
    "start_time": "2021-07-30T18:52:48.230Z"
   },
   {
    "duration": 41,
    "start_time": "2021-07-30T18:52:49.626Z"
   },
   {
    "duration": 25290,
    "start_time": "2021-07-30T18:52:49.670Z"
   },
   {
    "duration": 2945,
    "start_time": "2021-07-30T18:53:14.963Z"
   },
   {
    "duration": 7,
    "start_time": "2021-07-30T18:53:17.914Z"
   },
   {
    "duration": 2245,
    "start_time": "2021-07-30T18:53:17.925Z"
   },
   {
    "duration": 56,
    "start_time": "2021-07-30T18:53:20.172Z"
   },
   {
    "duration": 5,
    "start_time": "2021-07-30T18:53:20.231Z"
   },
   {
    "duration": 5445,
    "start_time": "2021-07-30T18:53:20.239Z"
   },
   {
    "duration": 32,
    "start_time": "2021-07-30T18:53:25.686Z"
   },
   {
    "duration": 1019,
    "start_time": "2021-07-30T18:53:25.720Z"
   },
   {
    "duration": 52,
    "start_time": "2021-07-30T18:53:26.742Z"
   },
   {
    "duration": 1255,
    "start_time": "2021-07-30T18:53:26.797Z"
   },
   {
    "duration": 3474,
    "start_time": "2021-07-30T18:53:28.055Z"
   },
   {
    "duration": 843,
    "start_time": "2021-07-30T18:53:31.532Z"
   },
   {
    "duration": 1241,
    "start_time": "2021-07-30T18:53:31.137Z"
   },
   {
    "duration": 1239,
    "start_time": "2021-07-30T18:53:31.141Z"
   },
   {
    "duration": 1239,
    "start_time": "2021-07-30T18:53:31.143Z"
   },
   {
    "duration": 1238,
    "start_time": "2021-07-30T18:53:31.145Z"
   },
   {
    "duration": 1237,
    "start_time": "2021-07-30T18:53:31.147Z"
   },
   {
    "duration": 1236,
    "start_time": "2021-07-30T18:53:31.149Z"
   },
   {
    "duration": 1234,
    "start_time": "2021-07-30T18:53:31.153Z"
   },
   {
    "duration": 1233,
    "start_time": "2021-07-30T18:53:31.155Z"
   },
   {
    "duration": 1230,
    "start_time": "2021-07-30T18:53:31.159Z"
   },
   {
    "duration": 1229,
    "start_time": "2021-07-30T18:53:31.162Z"
   },
   {
    "duration": 1228,
    "start_time": "2021-07-30T18:53:31.164Z"
   },
   {
    "duration": 1227,
    "start_time": "2021-07-30T18:53:31.166Z"
   },
   {
    "duration": 1227,
    "start_time": "2021-07-30T18:53:31.168Z"
   },
   {
    "duration": 36,
    "start_time": "2021-07-30T18:57:02.913Z"
   },
   {
    "duration": 53,
    "start_time": "2021-07-30T18:57:21.328Z"
   },
   {
    "duration": 82,
    "start_time": "2021-07-30T18:58:13.475Z"
   },
   {
    "duration": 55,
    "start_time": "2021-07-30T18:58:26.953Z"
   },
   {
    "duration": 26,
    "start_time": "2021-07-30T18:58:32.370Z"
   },
   {
    "duration": 355,
    "start_time": "2021-07-30T18:58:54.587Z"
   },
   {
    "duration": 35,
    "start_time": "2021-07-30T18:59:00.941Z"
   },
   {
    "duration": 1037,
    "start_time": "2021-07-30T19:00:03.741Z"
   },
   {
    "duration": 2403,
    "start_time": "2021-07-30T19:00:58.485Z"
   },
   {
    "duration": 980,
    "start_time": "2021-07-30T19:01:10.182Z"
   },
   {
    "duration": 4859,
    "start_time": "2021-07-30T19:01:58.326Z"
   },
   {
    "duration": 15,
    "start_time": "2021-07-30T19:02:04.871Z"
   },
   {
    "duration": 301,
    "start_time": "2021-07-30T19:02:34.824Z"
   },
   {
    "duration": 36,
    "start_time": "2021-07-30T19:02:43.120Z"
   },
   {
    "duration": 21,
    "start_time": "2021-07-30T19:02:56.256Z"
   },
   {
    "duration": 6522,
    "start_time": "2021-07-30T19:03:41.482Z"
   },
   {
    "duration": 3,
    "start_time": "2021-07-30T19:03:48.007Z"
   },
   {
    "duration": 1567,
    "start_time": "2021-07-30T19:03:48.013Z"
   },
   {
    "duration": 31,
    "start_time": "2021-07-30T19:03:49.583Z"
   },
   {
    "duration": 29619,
    "start_time": "2021-07-30T19:03:49.617Z"
   },
   {
    "duration": 2922,
    "start_time": "2021-07-30T19:04:19.238Z"
   },
   {
    "duration": 19,
    "start_time": "2021-07-30T19:04:22.162Z"
   },
   {
    "duration": 2216,
    "start_time": "2021-07-30T19:04:22.183Z"
   },
   {
    "duration": 55,
    "start_time": "2021-07-30T19:04:24.403Z"
   },
   {
    "duration": 6,
    "start_time": "2021-07-30T19:04:24.460Z"
   },
   {
    "duration": 6374,
    "start_time": "2021-07-30T19:04:24.468Z"
   },
   {
    "duration": 40,
    "start_time": "2021-07-30T19:04:30.845Z"
   },
   {
    "duration": 984,
    "start_time": "2021-07-30T19:04:30.888Z"
   },
   {
    "duration": 45,
    "start_time": "2021-07-30T19:04:31.876Z"
   },
   {
    "duration": 1124,
    "start_time": "2021-07-30T19:04:31.924Z"
   },
   {
    "duration": 1356,
    "start_time": "2021-07-30T19:04:33.051Z"
   },
   {
    "duration": 1798,
    "start_time": "2021-07-30T19:04:34.409Z"
   },
   {
    "duration": 1243,
    "start_time": "2021-07-30T19:04:34.967Z"
   },
   {
    "duration": 1241,
    "start_time": "2021-07-30T19:04:34.971Z"
   },
   {
    "duration": 1240,
    "start_time": "2021-07-30T19:04:34.974Z"
   },
   {
    "duration": 1239,
    "start_time": "2021-07-30T19:04:34.977Z"
   },
   {
    "duration": 1239,
    "start_time": "2021-07-30T19:04:34.979Z"
   },
   {
    "duration": 1238,
    "start_time": "2021-07-30T19:04:34.982Z"
   },
   {
    "duration": 1237,
    "start_time": "2021-07-30T19:04:34.984Z"
   },
   {
    "duration": 1235,
    "start_time": "2021-07-30T19:04:34.988Z"
   },
   {
    "duration": 1234,
    "start_time": "2021-07-30T19:04:34.991Z"
   },
   {
    "duration": 1233,
    "start_time": "2021-07-30T19:04:34.994Z"
   },
   {
    "duration": 1233,
    "start_time": "2021-07-30T19:04:34.996Z"
   },
   {
    "duration": 1234,
    "start_time": "2021-07-30T19:04:34.997Z"
   },
   {
    "duration": 9,
    "start_time": "2021-07-30T19:06:13.547Z"
   },
   {
    "duration": 213,
    "start_time": "2021-07-30T19:06:37.449Z"
   },
   {
    "duration": 296,
    "start_time": "2021-07-30T19:06:58.577Z"
   },
   {
    "duration": 238,
    "start_time": "2021-07-30T19:07:18.479Z"
   },
   {
    "duration": 10,
    "start_time": "2021-07-30T19:08:41.297Z"
   },
   {
    "duration": 266,
    "start_time": "2021-07-30T19:09:36.734Z"
   },
   {
    "duration": 303,
    "start_time": "2021-07-30T19:09:53.868Z"
   },
   {
    "duration": 33,
    "start_time": "2021-07-30T19:10:02.756Z"
   },
   {
    "duration": 16,
    "start_time": "2021-07-30T19:10:39.469Z"
   },
   {
    "duration": 31,
    "start_time": "2021-07-30T19:11:07.405Z"
   },
   {
    "duration": 18,
    "start_time": "2021-07-30T19:11:21.575Z"
   },
   {
    "duration": 30,
    "start_time": "2021-07-30T19:12:05.752Z"
   },
   {
    "duration": 30,
    "start_time": "2021-07-30T19:12:16.335Z"
   },
   {
    "duration": 245,
    "start_time": "2021-07-30T19:12:40.001Z"
   },
   {
    "duration": 1404,
    "start_time": "2021-07-30T19:12:57.968Z"
   },
   {
    "duration": 14,
    "start_time": "2021-07-30T19:14:30.290Z"
   },
   {
    "duration": 6361,
    "start_time": "2021-07-30T19:19:32.749Z"
   },
   {
    "duration": 4,
    "start_time": "2021-07-30T19:19:39.113Z"
   },
   {
    "duration": 1347,
    "start_time": "2021-07-30T19:19:39.121Z"
   },
   {
    "duration": 31,
    "start_time": "2021-07-30T19:19:40.471Z"
   },
   {
    "duration": 28371,
    "start_time": "2021-07-30T19:19:40.504Z"
   },
   {
    "duration": 2970,
    "start_time": "2021-07-30T19:20:08.877Z"
   },
   {
    "duration": 24,
    "start_time": "2021-07-30T19:20:11.849Z"
   },
   {
    "duration": 2259,
    "start_time": "2021-07-30T19:20:11.877Z"
   },
   {
    "duration": 67,
    "start_time": "2021-07-30T19:20:14.140Z"
   },
   {
    "duration": 6,
    "start_time": "2021-07-30T19:20:14.209Z"
   },
   {
    "duration": 5556,
    "start_time": "2021-07-30T19:20:14.217Z"
   },
   {
    "duration": 31,
    "start_time": "2021-07-30T19:20:19.776Z"
   },
   {
    "duration": 976,
    "start_time": "2021-07-30T19:20:19.809Z"
   },
   {
    "duration": 28,
    "start_time": "2021-07-30T19:20:20.788Z"
   },
   {
    "duration": 748,
    "start_time": "2021-07-30T19:20:20.819Z"
   },
   {
    "duration": 2966,
    "start_time": "2021-07-30T19:20:21.570Z"
   },
   {
    "duration": 5,
    "start_time": "2021-07-30T19:20:24.538Z"
   },
   {
    "duration": 45,
    "start_time": "2021-07-30T19:20:24.545Z"
   },
   {
    "duration": 31,
    "start_time": "2021-07-30T19:20:24.592Z"
   },
   {
    "duration": 43,
    "start_time": "2021-07-30T19:20:24.626Z"
   },
   {
    "duration": 234,
    "start_time": "2021-07-30T19:20:24.672Z"
   },
   {
    "duration": 7342,
    "start_time": "2021-07-30T19:21:53.629Z"
   },
   {
    "duration": 3,
    "start_time": "2021-07-30T19:22:00.974Z"
   },
   {
    "duration": 1392,
    "start_time": "2021-07-30T19:22:00.983Z"
   },
   {
    "duration": 31,
    "start_time": "2021-07-30T19:22:02.377Z"
   },
   {
    "duration": 23603,
    "start_time": "2021-07-30T19:22:02.410Z"
   },
   {
    "duration": 2936,
    "start_time": "2021-07-30T19:22:26.016Z"
   },
   {
    "duration": 14,
    "start_time": "2021-07-30T19:22:28.954Z"
   },
   {
    "duration": 2302,
    "start_time": "2021-07-30T19:22:28.972Z"
   },
   {
    "duration": 53,
    "start_time": "2021-07-30T19:22:31.278Z"
   },
   {
    "duration": 5,
    "start_time": "2021-07-30T19:22:31.334Z"
   },
   {
    "duration": 5677,
    "start_time": "2021-07-30T19:22:31.341Z"
   },
   {
    "duration": 48,
    "start_time": "2021-07-30T19:22:37.020Z"
   },
   {
    "duration": 1103,
    "start_time": "2021-07-30T19:22:37.072Z"
   },
   {
    "duration": 30,
    "start_time": "2021-07-30T19:22:38.178Z"
   },
   {
    "duration": 767,
    "start_time": "2021-07-30T19:22:38.211Z"
   },
   {
    "duration": 1476,
    "start_time": "2021-07-30T19:22:38.981Z"
   },
   {
    "duration": 7,
    "start_time": "2021-07-30T19:22:40.460Z"
   },
   {
    "duration": 34,
    "start_time": "2021-07-30T19:22:40.470Z"
   },
   {
    "duration": 64,
    "start_time": "2021-07-30T19:22:40.506Z"
   },
   {
    "duration": 14,
    "start_time": "2021-07-30T19:22:40.572Z"
   },
   {
    "duration": 245,
    "start_time": "2021-07-30T19:22:40.589Z"
   },
   {
    "duration": 1105,
    "start_time": "2021-07-30T19:22:40.837Z"
   },
   {
    "duration": 1287,
    "start_time": "2021-07-30T19:22:40.658Z"
   },
   {
    "duration": 1284,
    "start_time": "2021-07-30T19:22:40.663Z"
   },
   {
    "duration": 1283,
    "start_time": "2021-07-30T19:22:40.665Z"
   },
   {
    "duration": 1273,
    "start_time": "2021-07-30T19:22:40.676Z"
   },
   {
    "duration": 1272,
    "start_time": "2021-07-30T19:22:40.679Z"
   },
   {
    "duration": 1271,
    "start_time": "2021-07-30T19:22:40.681Z"
   },
   {
    "duration": 1270,
    "start_time": "2021-07-30T19:22:40.683Z"
   },
   {
    "duration": 1270,
    "start_time": "2021-07-30T19:22:40.685Z"
   },
   {
    "duration": 1270,
    "start_time": "2021-07-30T19:22:40.686Z"
   },
   {
    "duration": 6123,
    "start_time": "2021-07-30T19:31:23.157Z"
   },
   {
    "duration": 4,
    "start_time": "2021-07-30T19:31:29.283Z"
   },
   {
    "duration": 1342,
    "start_time": "2021-07-30T19:31:29.292Z"
   },
   {
    "duration": 37,
    "start_time": "2021-07-30T19:31:30.637Z"
   },
   {
    "duration": 24860,
    "start_time": "2021-07-30T19:31:30.676Z"
   },
   {
    "duration": 2962,
    "start_time": "2021-07-30T19:31:55.539Z"
   },
   {
    "duration": 10,
    "start_time": "2021-07-30T19:31:58.504Z"
   },
   {
    "duration": 2282,
    "start_time": "2021-07-30T19:31:58.519Z"
   },
   {
    "duration": 71,
    "start_time": "2021-07-30T19:32:00.804Z"
   },
   {
    "duration": 7,
    "start_time": "2021-07-30T19:32:00.878Z"
   },
   {
    "duration": 5506,
    "start_time": "2021-07-30T19:32:00.888Z"
   },
   {
    "duration": 31,
    "start_time": "2021-07-30T19:32:06.396Z"
   },
   {
    "duration": 953,
    "start_time": "2021-07-30T19:32:06.430Z"
   },
   {
    "duration": 28,
    "start_time": "2021-07-30T19:32:07.386Z"
   },
   {
    "duration": 746,
    "start_time": "2021-07-30T19:32:07.416Z"
   },
   {
    "duration": 1355,
    "start_time": "2021-07-30T19:32:08.167Z"
   },
   {
    "duration": 4,
    "start_time": "2021-07-30T19:32:09.525Z"
   },
   {
    "duration": 49,
    "start_time": "2021-07-30T19:32:09.532Z"
   },
   {
    "duration": 30,
    "start_time": "2021-07-30T19:32:09.583Z"
   },
   {
    "duration": 13,
    "start_time": "2021-07-30T19:32:09.615Z"
   },
   {
    "duration": 316,
    "start_time": "2021-07-30T19:32:09.630Z"
   },
   {
    "duration": 1048,
    "start_time": "2021-07-30T19:32:09.949Z"
   },
   {
    "duration": 1298,
    "start_time": "2021-07-30T19:32:09.702Z"
   },
   {
    "duration": 1287,
    "start_time": "2021-07-30T19:32:09.715Z"
   },
   {
    "duration": 1287,
    "start_time": "2021-07-30T19:32:09.717Z"
   },
   {
    "duration": 1285,
    "start_time": "2021-07-30T19:32:09.720Z"
   },
   {
    "duration": 1283,
    "start_time": "2021-07-30T19:32:09.724Z"
   },
   {
    "duration": 1282,
    "start_time": "2021-07-30T19:32:09.727Z"
   },
   {
    "duration": 1281,
    "start_time": "2021-07-30T19:32:09.729Z"
   },
   {
    "duration": 1281,
    "start_time": "2021-07-30T19:32:09.731Z"
   },
   {
    "duration": 1279,
    "start_time": "2021-07-30T19:32:09.734Z"
   },
   {
    "duration": 1274,
    "start_time": "2021-07-30T19:32:09.741Z"
   },
   {
    "duration": 1273,
    "start_time": "2021-07-30T19:32:09.744Z"
   },
   {
    "duration": 10567,
    "start_time": "2021-07-30T19:32:38.768Z"
   },
   {
    "duration": 4,
    "start_time": "2021-07-30T19:32:52.883Z"
   },
   {
    "duration": 11,
    "start_time": "2021-07-30T19:32:55.432Z"
   },
   {
    "duration": 10,
    "start_time": "2021-07-30T19:33:52.146Z"
   },
   {
    "duration": 8453,
    "start_time": "2021-07-30T19:33:55.114Z"
   },
   {
    "duration": 259965,
    "start_time": "2021-07-30T19:34:05.003Z"
   },
   {
    "duration": 35046,
    "start_time": "2021-07-30T19:38:24.971Z"
   },
   {
    "duration": 1369,
    "start_time": "2021-07-30T19:39:00.019Z"
   },
   {
    "duration": 13,
    "start_time": "2021-07-30T19:39:01.390Z"
   },
   {
    "duration": 8610,
    "start_time": "2021-07-30T19:43:27.425Z"
   },
   {
    "duration": 1499,
    "start_time": "2021-07-30T19:43:39.583Z"
   },
   {
    "duration": 7642,
    "start_time": "2021-07-30T19:56:47.395Z"
   },
   {
    "duration": 9,
    "start_time": "2021-07-30T19:56:55.039Z"
   },
   {
    "duration": 1420,
    "start_time": "2021-07-30T19:56:55.051Z"
   },
   {
    "duration": 35,
    "start_time": "2021-07-30T19:56:56.475Z"
   },
   {
    "duration": 3014,
    "start_time": "2021-07-30T19:56:56.513Z"
   },
   {
    "duration": 5713,
    "start_time": "2021-07-30T19:56:59.530Z"
   },
   {
    "duration": 1067,
    "start_time": "2021-07-30T19:57:05.246Z"
   },
   {
    "duration": 3256,
    "start_time": "2021-07-30T19:57:06.316Z"
   },
   {
    "duration": 5,
    "start_time": "2021-07-30T19:57:09.575Z"
   },
   {
    "duration": 34,
    "start_time": "2021-07-30T19:57:09.583Z"
   },
   {
    "duration": 55,
    "start_time": "2021-07-30T19:57:09.619Z"
   },
   {
    "duration": 3428,
    "start_time": "2021-07-30T19:57:09.677Z"
   },
   {
    "duration": 11429,
    "start_time": "2021-07-30T19:57:13.108Z"
   },
   {
    "duration": 3,
    "start_time": "2021-07-30T19:57:24.540Z"
   },
   {
    "duration": 27,
    "start_time": "2021-07-30T19:57:24.546Z"
   },
   {
    "duration": 5,
    "start_time": "2021-07-30T19:57:24.576Z"
   },
   {
    "duration": 8567,
    "start_time": "2021-07-30T19:57:24.583Z"
   },
   {
    "duration": 255420,
    "start_time": "2021-07-30T19:57:33.152Z"
   },
   {
    "duration": 37424,
    "start_time": "2021-07-30T20:01:48.576Z"
   },
   {
    "duration": 1351,
    "start_time": "2021-07-30T20:02:26.002Z"
   },
   {
    "duration": 22,
    "start_time": "2021-07-30T20:02:27.356Z"
   },
   {
    "duration": 2404,
    "start_time": "2021-08-07T20:04:59.165Z"
   },
   {
    "duration": 4,
    "start_time": "2021-08-07T20:05:01.572Z"
   },
   {
    "duration": 788,
    "start_time": "2021-08-07T20:05:01.580Z"
   },
   {
    "duration": 31,
    "start_time": "2021-08-07T20:05:02.371Z"
   },
   {
    "duration": 2876,
    "start_time": "2021-08-07T20:05:02.404Z"
   },
   {
    "duration": 5618,
    "start_time": "2021-08-07T20:05:05.283Z"
   },
   {
    "duration": 2415,
    "start_time": "2021-08-07T20:05:10.904Z"
   },
   {
    "duration": 2994,
    "start_time": "2021-08-07T20:05:13.324Z"
   },
   {
    "duration": 5,
    "start_time": "2021-08-07T20:05:16.322Z"
   },
   {
    "duration": 40,
    "start_time": "2021-08-07T20:05:16.330Z"
   },
   {
    "duration": 30,
    "start_time": "2021-08-07T20:05:16.372Z"
   },
   {
    "duration": 278,
    "start_time": "2021-08-07T20:05:16.405Z"
   },
   {
    "duration": 10135,
    "start_time": "2021-08-07T20:05:16.685Z"
   },
   {
    "duration": 3,
    "start_time": "2021-08-07T20:05:26.823Z"
   },
   {
    "duration": 32,
    "start_time": "2021-08-07T20:05:26.828Z"
   },
   {
    "duration": 6,
    "start_time": "2021-08-07T20:05:26.862Z"
   },
   {
    "duration": 8349,
    "start_time": "2021-08-07T20:05:26.870Z"
   },
   {
    "duration": 232177,
    "start_time": "2021-08-07T20:05:35.222Z"
   },
   {
    "duration": 33849,
    "start_time": "2021-08-07T20:09:27.402Z"
   },
   {
    "duration": 1218,
    "start_time": "2021-08-07T20:10:01.253Z"
   },
   {
    "duration": 13,
    "start_time": "2021-08-07T20:10:02.474Z"
   }
  ],
  "kernelspec": {
   "display_name": "Python 3",
   "language": "python",
   "name": "python3"
  },
  "language_info": {
   "codemirror_mode": {
    "name": "ipython",
    "version": 3
   },
   "file_extension": ".py",
   "mimetype": "text/x-python",
   "name": "python",
   "nbconvert_exporter": "python",
   "pygments_lexer": "ipython3",
   "version": "3.7.8"
  },
  "toc": {
   "base_numbering": 1,
   "nav_menu": {},
   "number_sections": true,
   "sideBar": true,
   "skip_h1_title": true,
   "title_cell": "Table of Contents",
   "title_sidebar": "Contents",
   "toc_cell": false,
   "toc_position": {},
   "toc_section_display": true,
   "toc_window_display": false
  }
 },
 "nbformat": 4,
 "nbformat_minor": 4
}
